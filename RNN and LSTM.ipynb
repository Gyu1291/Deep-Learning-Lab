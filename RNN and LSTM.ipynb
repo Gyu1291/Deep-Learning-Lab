{
 "cells": [
  {
   "cell_type": "markdown",
   "metadata": {
    "id": "clIFh_guHNFv"
   },
   "source": [
    "> ### EEE4423: Deep Learning Lab\n",
    "\n",
    "# LAB \\#11: Character Generation using LSTM"
   ]
  },
  {
   "cell_type": "markdown",
   "metadata": {
    "id": "Un-_JnG1HNF1"
   },
   "source": [
    "<h4><div style=\"text-align: right\"> Due date: May 18, 2023. </div> <br>\n",
    "<div style=\"text-align: right\"> Please upload your file @ LearnUs by 2 PM in the form of [ID_Name_Lab11.ipynb]. </div></h4>\n",
    "\n",
    "### *Instructions:*\n",
    "- Write a program implementing a particular algorithm to solve a given problem.   \n",
    "- <span style=\"color:red\">**Report and discuss your results. Analyze the algorithm, theoretically and empirically.**</span> \n",
    "- Each team must write their own answers and codes (<span style=\"color:red\">**if not you will get a F grade**</span>)."
   ]
  },
  {
   "cell_type": "markdown",
   "metadata": {
    "id": "Nats-XhJHNF2"
   },
   "source": [
    "<h2><span style=\"color:blue\">[Insert your ID HERE] [Insert your name HERE]</span> </h2>"
   ]
  },
  {
   "cell_type": "code",
   "execution_count": 1,
   "metadata": {
    "id": "DUNE2wXfHNF2",
    "outputId": "cf8804ce-9063-463d-988f-cd900bd149b1",
    "tags": []
   },
   "outputs": [
    {
     "name": "stdout",
     "output_type": "stream",
     "text": [
      "This code is written at 2023-05-15 13:12:31.716549\n"
     ]
    }
   ],
   "source": [
    "import datetime\n",
    "print(\"This code is written at \" + str(datetime.datetime.now()))"
   ]
  },
  {
   "cell_type": "code",
   "execution_count": 2,
   "metadata": {
    "tags": []
   },
   "outputs": [
    {
     "name": "stdout",
     "output_type": "stream",
     "text": [
      "Requirement already satisfied: unidecode in ./.local/lib/python3.6/site-packages (1.3.6)\n",
      "\u001b[33mWARNING: Running pip as the 'root' user can result in broken permissions and conflicting behaviour with the system package manager. It is recommended to use a virtual environment instead: https://pip.pypa.io/warnings/venv\u001b[0m\n"
     ]
    }
   ],
   "source": [
    "!pip install unidecode --user"
   ]
  },
  {
   "cell_type": "code",
   "execution_count": 4,
   "metadata": {
    "id": "J8vQvyjWHNF5",
    "tags": []
   },
   "outputs": [],
   "source": [
    "import unidecode\n",
    "import string\n",
    "import random\n",
    "import re\n",
    "import os\n",
    "\n",
    "import torch\n",
    "import torch.nn as nn\n",
    "from torch.autograd import Variable"
   ]
  },
  {
   "cell_type": "markdown",
   "metadata": {
    "id": "O9OP9XM9HNF5"
   },
   "source": [
    "These sorts of generative models form the basis of machine translation, image captioning, question answering and more.\n",
    "\n",
    "<img src=\"http://drive.google.com/uc?export=view&id=16E7HG_dCyfTo9u9qrrhp2eClq6xK6-f_\" style=\"width: 600px;\"/>"
   ]
  },
  {
   "cell_type": "markdown",
   "metadata": {
    "id": "6YQl92mwHNF6"
   },
   "source": [
    "### 1. Prepare data\n",
    "\n",
    "The file we are using is a plain text file. We turn any potential unicode characters into plain ASCII by using the `unidecode` package"
   ]
  },
  {
   "cell_type": "markdown",
   "metadata": {
    "id": "ymNU_-ZGHNF6"
   },
   "source": [
    "<img src=\"http://drive.google.com/uc?export=view&id=171lX3vxj60AQNScQi872BHx2Rz6J7-3J\" />"
   ]
  },
  {
   "cell_type": "code",
   "execution_count": 6,
   "metadata": {
    "id": "TFK9sT_1HNF6",
    "outputId": "1bbcf9b6-7367-4aba-ff59-7a3e6134441d",
    "tags": []
   },
   "outputs": [
    {
     "name": "stdout",
     "output_type": "stream",
     "text": [
      "file_len = 4063\n"
     ]
    }
   ],
   "source": [
    "file = unidecode.unidecode(open('./dataset-dllab/lab11/lose_yourself_eminem.txt').read())\n",
    "file_len = len(file)\n",
    "print('file_len =', file_len)"
   ]
  },
  {
   "cell_type": "markdown",
   "metadata": {
    "id": "TUyRw-C2HNF6"
   },
   "source": [
    "To make inputs out of this big string of data, we will be splitting it into chunks."
   ]
  },
  {
   "cell_type": "code",
   "execution_count": 140,
   "metadata": {
    "id": "6nPqv8tuHNF7",
    "outputId": "2a05a019-0267-43fd-9e6a-cbcf9c5ac4c3",
    "tags": []
   },
   "outputs": [
    {
     "name": "stdout",
     "output_type": "stream",
     "text": [
      "ghter\n",
      "But hold your nose 'cause here goes the cold water\n",
      "His hoes don't want him no mo, he's cold product\n",
      "They moved on to the next schmo who flows, he nose dove and sold nada\n",
      "So the soap opera is told\n"
     ]
    }
   ],
   "source": [
    "chunk_len = 200\n",
    "\n",
    "def random_chunk():\n",
    "    start_index = random.randint(0, file_len - chunk_len)\n",
    "    end_index = start_index + chunk_len + 1\n",
    "    return file[start_index:end_index]\n",
    "\n",
    "print(random_chunk())"
   ]
  },
  {
   "cell_type": "markdown",
   "metadata": {
    "id": "ScRzeDr8HNF9"
   },
   "source": [
    "Each chunk will be turned into a tensor by looping through the characters of the string and looking up the index of each character in `all_characters`."
   ]
  },
  {
   "cell_type": "code",
   "execution_count": 141,
   "metadata": {
    "id": "TylqhpuyHNF9",
    "outputId": "9e4b9d7e-bea0-41a5-d853-caaa711be679",
    "tags": []
   },
   "outputs": [
    {
     "name": "stdout",
     "output_type": "stream",
     "text": [
      "0123456789abcdefghijklmnopqrstuvwxyzABCDEFGHIJKLMNOPQRSTUVWXYZ!\"#$%&'()*+,-./:;<=>?@[\\]^_`{|}~ \t\n",
      "\u000b",
      "\f",
      "\n",
      "abcDEF is changed to  tensor([10, 11, 12, 39, 40, 41])\n"
     ]
    }
   ],
   "source": [
    "# Turn string into list of longs\n",
    "all_characters = string.printable\n",
    "print(all_characters)\n",
    "\n",
    "def char_tensor(string):\n",
    "    tensor = torch.zeros(len(string)).long()\n",
    "    for c in range(len(string)):\n",
    "        tensor[c] = all_characters.index(string[c])\n",
    "    return Variable(tensor)\n",
    "\n",
    "print('abcDEF is changed to ', char_tensor('abcDEF'))"
   ]
  },
  {
   "cell_type": "markdown",
   "metadata": {
    "id": "b1XvIwnaHNF9"
   },
   "source": [
    "Finally we can assemble a pair of input and target tensors for training, from a random chunk. The input will be all characters *up to the last*, and the target will be all characters *from the first*. So if our chunk is \"abc\" the input will correspond to \"ab\" while the target is \"bc\"."
   ]
  },
  {
   "cell_type": "code",
   "execution_count": 142,
   "metadata": {
    "id": "YfaPPbDMHNF-",
    "tags": []
   },
   "outputs": [],
   "source": [
    "def random_training_set():    \n",
    "    chunk = random_chunk()\n",
    "    inputs = char_tensor(chunk[:-1])\n",
    "    targets = char_tensor(chunk[1:])\n",
    "    return inputs, targets"
   ]
  },
  {
   "cell_type": "markdown",
   "metadata": {
    "id": "uaQ88mGNHNF-"
   },
   "source": [
    "### 2. Build the LSTM model [4 points]\n",
    "\n",
    "#### [Diagram of LSTM]\n",
    "<img src=\"http://drive.google.com/uc?export=view&id=1baQ6Ffu-vDcXbOEBYGeLzhmfvaj4DGgW\" style=\"width: 800px;\"/>\n",
    "LSTM consists of cell state, hidden state and 3 gates that modify or use the cell state. The cell state is the key part of the LSTM and you can think that information \"flows\" in there. The operation of 3 gates are described in below.\n",
    "\n",
    "#### [Forget Gate]\n",
    "The forget gate determines which information in the cell state should be erased.\n",
    "<img src=\"http://drive.google.com/uc?export=view&id=1sJisl5P0hggmvH4qrcYgSETFKdFdBSH_\" style=\"width: 600px;\"/>\n",
    "\n",
    "#### [Input Gate]\n",
    "First, the candidate cell state is created using the current input and the previous hidden state. And the input gate determines how much the candidate cell state is reflected to the cell state.\n",
    "<img src=\"http://drive.google.com/uc?export=view&id=1Df-k5FORGH7PnXauYcb8qqUpY3Uot9A7\" style=\"width: 600px;\"/>\n",
    "\n",
    "#### [Output Gate]\n",
    "The output gate determines which elements should be extracted from the cell state to produce the output.\n",
    "<img src=\"http://drive.google.com/uc?export=view&id=1JLCGPcrZLOYfjyJhMTvmfixHq5plFj8L\" style=\"width: 600px;\"/>\n",
    "\n",
    "The above expression is summarized as follows,\n",
    "<img src=\"http://drive.google.com/uc?export=view&id=1kGq8DwwzizuNcg6GF0GaP1DAu26FFlrB\" style=\"width: 300px;\"/>\n"
   ]
  },
  {
   "cell_type": "markdown",
   "metadata": {
    "id": "my4efNewHNF-"
   },
   "source": [
    "This model will take as input the character for step $t_{-1}$ and is expected to output the next character $t$. There are three layers - one linear layer that encodes the input character into an internal state, one LSTM layer that operates on that internal state and a hidden state, and a decoder layer that outputs the probability distribution."
   ]
  },
  {
   "cell_type": "code",
   "execution_count": 550,
   "metadata": {
    "id": "nDOFfcpsHNF-",
    "outputId": "82c1c3f6-2ca7-464a-d3d6-ae601daea999"
   },
   "outputs": [
    {
     "data": {
      "text/plain": [
       "LSTMModel(\n",
       "  (encoder): Embedding(100, 100)\n",
       "  (tanh): Tanh()\n",
       "  (sigmoid): Sigmoid()\n",
       "  (forget_gate_x): Linear(in_features=100, out_features=100, bias=True)\n",
       "  (input_gate_x): Linear(in_features=100, out_features=100, bias=True)\n",
       "  (cell_gate_x): Linear(in_features=100, out_features=100, bias=True)\n",
       "  (output_gate_x): Linear(in_features=100, out_features=100, bias=True)\n",
       "  (forget_gate_h): Linear(in_features=100, out_features=100, bias=True)\n",
       "  (input_gate_h): Linear(in_features=100, out_features=100, bias=True)\n",
       "  (cell_gate_h): Linear(in_features=100, out_features=100, bias=True)\n",
       "  (output_gate_h): Linear(in_features=100, out_features=100, bias=True)\n",
       "  (decoder): Linear(in_features=100, out_features=100, bias=True)\n",
       ")"
      ]
     },
     "execution_count": 550,
     "metadata": {},
     "output_type": "execute_result"
    }
   ],
   "source": [
    "class LSTMModel(nn.Module):\n",
    "    def __init__(self, input_dim, hidden_dim, layer_dim, output_dim):\n",
    "        super(LSTMModel, self).__init__()\n",
    "        \n",
    "        self.input_dim = input_dim\n",
    "        self.hidden_dim = hidden_dim\n",
    "        self.layer_dim = layer_dim\n",
    "        self.output_dim = output_dim\n",
    "        \n",
    "        self.encoder = nn.Embedding(input_dim, hidden_dim) #encoder\n",
    "        \n",
    "        self.tanh= nn.Tanh()\n",
    "        self.sigmoid= nn.Sigmoid()\n",
    "        \n",
    "        # lstm\n",
    "        # Weight of x\n",
    "        self.forget_gate_x = nn.Linear(hidden_dim, hidden_dim)\n",
    "        self.input_gate_x = nn.Linear(hidden_dim, hidden_dim)\n",
    "        self.cell_gate_x = nn.Linear(hidden_dim, hidden_dim)\n",
    "        self.output_gate_x = nn.Linear(hidden_dim, hidden_dim)\n",
    "        \n",
    "        #Weight of h, I separate weight of X and h for higher performance \n",
    "        self.forget_gate_h = nn.Linear(hidden_dim, hidden_dim)\n",
    "        self.input_gate_h = nn.Linear(hidden_dim, hidden_dim)\n",
    "        self.cell_gate_h = nn.Linear(hidden_dim, hidden_dim)\n",
    "        self.output_gate_h= nn.Linear(hidden_dim, hidden_dim)\n",
    "        \n",
    "        self.decoder = nn.Linear(hidden_dim, output_dim) #decoder\n",
    "    \n",
    "    \n",
    "    def forward(self, x, hn, cn):\n",
    "        length= len(x)\n",
    "        x = self.encoder(x) #encoding\n",
    "        x = x.view(-1, x.size()[0], x.size()[1]) #match the shape of tensor\n",
    "        #training each word in x, and accumulate each output to total_output\n",
    "        total_output = torch.tensor([]).cuda()\n",
    "        for t in range(length):\n",
    "            input_x = x[: , t, :] #1, input_dim, hidden_dim\n",
    "            forget_gate = self.sigmoid(self.forget_gate_x(input_x) + self.forget_gate_h(hn))\n",
    "            input_gate = self.sigmoid(self.input_gate_x(input_x) + self.input_gate_h(hn))\n",
    "            cell_gate = self.tanh(self.cell_gate_x(input_x) + self.cell_gate_h(hn)) #tanh\n",
    "            output = self.sigmoid(self.output_gate_x(input_x) + self.output_gate_h(hn))\n",
    "        \n",
    "            cn = forget_gate * cn + input_gate*cell_gate #new cell gate\n",
    "            hn = output * torch.tanh(cn) #new hidden layer\n",
    "            output = self.decoder(hn[-1, -1, :]) #match shape of output\n",
    "            total_output = torch.cat([total_output, output]) #accumulate\n",
    "        \n",
    "        total_output = total_output.reshape(length, self.input_dim)\n",
    "        return total_output, hn, cn\n",
    "\n",
    "    \n",
    "    def init_hidden(self):\n",
    "        # The size of h0, c0 should be (layer_dim, batch_size, hidden_dim)\n",
    "        # I didn't use layer_dim\n",
    "        h0 = Variable(torch.zeros(self.layer_dim, 1, self.hidden_dim).cuda()) # initial hidden state\n",
    "        c0 = Variable(torch.zeros(self.layer_dim, 1, self.hidden_dim).cuda()) # initial cell state\n",
    "        return h0, c0\n",
    "    \n",
    "hidden_dim = 100\n",
    "n_layers = 1\n",
    "n_characters = len(all_characters) #100\n",
    "\n",
    "model = LSTMModel(n_characters, hidden_dim, n_layers, n_characters)\n",
    "model.cuda()"
   ]
  },
  {
   "cell_type": "markdown",
   "metadata": {
    "id": "2qajoki2HNF_"
   },
   "source": [
    "### 3. Loss function and optimizer"
   ]
  },
  {
   "cell_type": "code",
   "execution_count": 551,
   "metadata": {
    "id": "xvm-picHHNF_"
   },
   "outputs": [],
   "source": [
    "criterion = nn.CrossEntropyLoss()\n",
    "\n",
    "lr = 0.005\n",
    "optimizer = torch.optim.Adam(model.parameters(), lr=lr)"
   ]
  },
  {
   "cell_type": "markdown",
   "metadata": {
    "id": "5haXxzwOHNF_"
   },
   "source": [
    "### 4 . Write the character level generation code [4 points]\n",
    "\n",
    "- Generate a sentence with a length of $predict\\_len$, starting from a single character $prime\\_str$.\n",
    "- Example) evaluate(prime_str='Y', predict_len=20) -> You better let it go"
   ]
  },
  {
   "cell_type": "code",
   "execution_count": 552,
   "metadata": {
    "id": "JKkMfsh1HNF_"
   },
   "outputs": [],
   "source": [
    "def evaluate(prime_str='W', predict_len=100):\n",
    "    # suppose prime_str is a single character\n",
    "    # and use greedy search to predict the next character\n",
    "    hn, cn = model.init_hidden()\n",
    "    predicted = str()\n",
    "    \n",
    "    for i in range(predict_len):\n",
    "        input_tensor = char_tensor(prime_str).cuda() #change word to tensor\n",
    "        output, hn, cn = model(input_tensor, hn.cuda(), cn.cuda())\n",
    "        new_char = output.argmax(dim=1).item()\n",
    "        prime_str = all_characters[new_char] #output becomes next input in loop\n",
    "        predicted += prime_str\n",
    "        \n",
    "        #predicted.append()\n",
    "        #prime_str = chr(new_char + ord('A'))\n",
    "        \n",
    "    return predicted"
   ]
  },
  {
   "cell_type": "markdown",
   "metadata": {
    "id": "vt4VFJd5HNF_"
   },
   "source": [
    "### 5 . Write the code to train the model [2 points]\n",
    "\n",
    "- Plot the training loss curve.\n",
    "- Print the output sentence with a length of 100, using $evaluate()$ function."
   ]
  },
  {
   "cell_type": "code",
   "execution_count": 553,
   "metadata": {
    "id": "LC0xsnlRHNF_",
    "outputId": "069881bd-f136-4501-fcbc-e8bb0bf3afbd",
    "scrolled": true
   },
   "outputs": [
    {
     "name": "stdout",
     "output_type": "stream",
     "text": [
      "************************* epoch100 *************************\n",
      "loss 2.0480\n",
      " the the the the the the the the the the the the the the the the the the the the the the the the the \n",
      "\n",
      "************************* epoch200 *************************\n",
      "loss 1.2039\n",
      " moment\n",
      "You better not one the moment\n",
      "You better not one the moment\n",
      "You better not one the moment\n",
      "Yo \n",
      "\n",
      "************************* epoch300 *************************\n",
      "loss 1.7634\n",
      " moment\n",
      "You only got one shot\n",
      "You only got one shot\n",
      "You only got one shot\n",
      "You only got one shot\n",
      "You  \n",
      "\n",
      "************************* epoch400 *************************\n",
      "loss 1.3399\n",
      " word and only get one shot, do not miss your chance to blow\n",
      "This opportunity comes once to blow\n",
      "Thi \n",
      "\n",
      "************************* epoch500 *************************\n",
      "loss 1.3356\n",
      "n the lose your chance to blow\n",
      "This opportunity comes once in a lifetime you better lose your chance \n",
      "\n",
      "************************* epoch600 *************************\n",
      "loss 0.9856\n",
      "n one shot\n",
      "To fortunity comes once in a lifetime you better never let it go\n",
      "You only get one shot, d \n",
      "\n",
      "************************* epoch700 *************************\n",
      "loss 0.8327\n",
      "n one so fardeatime to blow\n",
      "This opportunity comes once in a lifetime you better never let it go\n",
      "You \n",
      "\n",
      "************************* epoch800 *************************\n",
      "loss 0.5947\n",
      " got\n",
      "You only get one shot, do not miss your chance to blow\n",
      "This opportunity comes once in a lifetim \n",
      "\n",
      "************************* epoch900 *************************\n",
      "loss 0.4982\n",
      "n one shot, do not miss your chance to blow\n",
      "This opportunity comes once in a lifetime you better\n",
      "You \n",
      "\n",
      "************************* epoch1000 *************************\n",
      "loss 0.5476\n",
      " can't parseady, mom's lrovied whold your chance to blow\n",
      "This opportunity comes once in a lifetime y \n",
      "\n",
      "************************* epoch1100 *************************\n",
      "loss 0.1050\n",
      " can't get one shot, do not miss your chance to blow\n",
      "This opportunity comes once in a lifetime you b \n",
      "\n",
      "************************* epoch1200 *************************\n",
      "loss 0.0567\n",
      "n one so don't back to the paing, the pied piper\n",
      "All the pain inside amplified by the words won't gi \n",
      "\n",
      "************************* epoch1300 *************************\n",
      "loss 0.4079\n",
      "n water my seed, plus\n",
      "See dishonor caught up between bein' a father stardom's close to blow\n",
      "This opp \n",
      "\n",
      "************************* epoch1400 *************************\n",
      "loss 0.2146\n",
      "n one shot, do not miss your chance to blow\n",
      "This opportunity comes once in a lifetime you better\n",
      "You \n",
      "\n",
      "************************* epoch1500 *************************\n",
      "loss 0.0847\n",
      "n out and booed off stage\n",
      "But I kept rhymin' and stepwritin' the the pied piper\n",
      "All the pain inside  \n",
      "\n",
      "************************* epoch1600 *************************\n",
      "loss 0.1593\n",
      " can't get by with my never let it go\n",
      "You only get one shot, do not miss your chance to blow\n",
      "This op \n",
      "\n",
      "************************* epoch1700 *************************\n",
      "loss 0.2076\n",
      " canged\n",
      "I been chewed up and spit out and booed off stage\n",
      "But I kept rhymin' and stepwritin' the nex \n",
      "\n",
      "************************* epoch1800 *************************\n",
      "loss 0.1999\n",
      " come of mine you better\n",
      "You better lose yourself in the music, the moment\n",
      "You own it, you better ne \n",
      "\n",
      "************************* epoch1900 *************************\n",
      "loss 0.2079\n",
      " cold product\n",
      "The bele goes on\n",
      "Da da dumb da dumb da da\n",
      "You better lose yourself in the music, the m \n",
      "\n",
      "************************* epoch2000 *************************\n",
      "loss 0.1563\n",
      " can's words won't come out\n",
      "He's chokin', how, everybody's jokin' now\n",
      "The clocks run out, times up,  \n",
      "\n"
     ]
    },
    {
     "data": {
      "text/plain": [
       "[<matplotlib.lines.Line2D at 0x7f043704c710>]"
      ]
     },
     "execution_count": 553,
     "metadata": {},
     "output_type": "execute_result"
    },
    {
     "data": {
      "image/png": "[encoded data removed]",
      "text/plain": [
       "<Figure size 432x288 with 1 Axes>"
      ]
     },
     "metadata": {
      "needs_background": "light"
     },
     "output_type": "display_data"
    }
   ],
   "source": [
    "n_epochs = 2000\n",
    "print_every = 100\n",
    "plot_every = 10\n",
    "\n",
    "all_losses = []\n",
    "loss_avg = 0\n",
    "\n",
    "hn0, cn0 = model.init_hidden()\n",
    "hn0, cn0 = hn0.cuda(), cn0.cuda()\n",
    "\n",
    "for epoch in range(1, n_epochs + 1):\n",
    "    # Load text\n",
    "    inputs, targets = random_training_set()\n",
    "    inputs, targets = inputs.cuda(), targets.cuda()\n",
    "    if inputs.size()[0] < 200: continue\n",
    "    \n",
    "    # Clear gradients w.r.t. parameters\n",
    "    optimizer.zero_grad()\n",
    "    # Forward pass\n",
    "    loss = 0\n",
    "    raw_output, nh, nc = model(inputs, hn0, cn0)\n",
    "    #print(raw_output)\n",
    "    loss = criterion(raw_output, targets)\n",
    "        \n",
    "    # Backward pass\n",
    "    loss.backward()\n",
    "    # Updating parameters\n",
    "    optimizer.step()\n",
    "    \n",
    "    loss_avg += loss.item() / chunk_len\n",
    "\n",
    "    if epoch % print_every == 0:\n",
    "        print('*'*25, 'epoch%d'%epoch, '*'*25)\n",
    "        print('loss %.4f'%loss.item())\n",
    "        print(evaluate('I', 100), '\\n')\n",
    "        #print(raw_output)\n",
    "\n",
    "    if epoch % plot_every == 0:\n",
    "        all_losses.append(loss_avg / plot_every)\n",
    "        loss_avg = 0\n",
    "\n",
    "#################################################:\n",
    "import matplotlib.pyplot as plt\n",
    "%matplotlib inline\n",
    "\n",
    "plt.figure()\n",
    "plt.plot(all_losses)"
   ]
  },
  {
   "cell_type": "markdown",
   "metadata": {
    "id": "XCGRgEuZHNF_"
   },
   "source": [
    "### *References*\n",
    "[1] [practical pytorch](https://github.com/spro/practical-pytorch)(https://github.com/spro/practical-pytorch)\n",
    "\n",
    "[2] [CS 231n](http://cs231n.stanford.edu/syllabus.html)(http://cs231n.stanford.edu/syllabus.html)"
   ]
  },
  {
   "cell_type": "markdown",
   "metadata": {},
   "source": [
    "## Discussion\n",
    "\n",
    "이번 주차에는 LSTM 모델을 구현하였다. LSTM model은 memory cell 개념을 도입하여 long term dependency를 다룰 수 있도록 만든 모델이다. LSTM은 크게 input을 forget_gate, input_gate, cell_gate, output_gate로 나눈 뒤 이들을 다시 activation function을 거쳐 처리하여 output, cn, hn을 추출한다.\n",
    "\n",
    "foward과정에서는 input으로 들어온 sentence를 한 단어씩 학습시키며 계속 cn, hn을 업데이트 하는 방식으로 모델을 구현하였다. 이 경우 output으로는 word 1개에 대한 100차원의 tensor가 나오게 되는데 이를 누적시켜 문장 전체에 대해, 각 단어별 100차원 tensor를 가지고 있는 최종 output을 만든다.\n",
    "\n",
    "evaluate는 input으로 한 개의 글자씩을 넣어 나온 output, hn, cn을 다시 input으로 넣는 방식을 통해\n",
    "greedy한 방식으로 함수를 구성하였다.\n",
    "\n",
    "이후 학습 부분은 CrossEntropyLoss를 통해 loss를 구하고, 기존의 타 모델들과 동일하게 학습을 진행해주었다.\n",
    "\n",
    "그 결과 2000번의 epoch를 반복하였을 때 loss를 0.15까지 줄일 수 있었다.\n",
    "결과 문장의 경우 문장 전체의 흐름이 자연스럽지는 않지만, 실제 노래 가사에서 등장하는\n",
    "올바른 영단어들의 조합인 문장을 출력하는 것을 확인할 수 있다."
   ]
  },
  {
   "cell_type": "code",
   "execution_count": null,
   "metadata": {},
   "outputs": [],
   "source": []
  }
 ],
 "metadata": {
  "colab": {
   "collapsed_sections": [],
   "name": "EEE4423_lab10_Character Generation using LSTM.ipynb",
   "provenance": []
  },
  "kernelspec": {
   "display_name": "Full on Python 3.6 (GPU)",
   "language": "python",
   "name": "python3"
  },
  "language_info": {
   "codemirror_mode": {
    "name": "ipython",
    "version": 3
   },
   "file_extension": ".py",
   "mimetype": "text/x-python",
   "name": "python",
   "nbconvert_exporter": "python",
   "pygments_lexer": "ipython3",
   "version": "3.6.14"
  }
 },
 "nbformat": 4,
 "nbformat_minor": 4
}
