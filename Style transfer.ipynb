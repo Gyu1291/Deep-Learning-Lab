{
 "cells": [
  {
   "cell_type": "markdown",
   "metadata": {
    "colab_type": "text",
    "id": "eXFfI0wi2OWc"
   },
   "source": [
    "> ### EEE4423: Deep Learning Lab\n",
    "\n",
    "# LAB \\#4: Limitation: Spatial Transformer Network(STN)"
   ]
  },
  {
   "cell_type": "markdown",
   "metadata": {
    "colab_type": "text",
    "id": "E_TAt1ul2OWd"
   },
   "source": [
    "<h4><div style=\"text-align: right\"> Due date: April 1, 2022.  </div> <br>\n",
    "<div style=\"text-align: right\"> Please upload your file @ LearnUs by 9 AM in the form of [ID_Name_Lab04.ipynb]. </div></h4>"
   ]
  },
  {
   "cell_type": "markdown",
   "metadata": {
    "colab_type": "text",
    "id": "JAd1A1R52OWe"
   },
   "source": [
    "### *Instructions:*\n",
    "- Write a program implementing a particular algorithm to solve a given problem.   \n",
    "- <span style=\"color:red\">**Report and discuss your results. Analyze the algorithm, theoretically and empirically.**</span> \n",
    "- Each team must write their own answers and codes (<span style=\"color:red\">**if not you will get a F grade**</span>)."
   ]
  },
  {
   "cell_type": "markdown",
   "metadata": {
    "colab_type": "text",
    "id": "7v-RdgrF2OWf"
   },
   "source": [
    "<h2><span style=\"color:blue\">[2018142192] [최순규]</span> </h2>"
   ]
  },
  {
   "cell_type": "code",
   "execution_count": 1,
   "metadata": {
    "colab": {},
    "colab_type": "code",
    "id": "QsMlF0RR2OWg",
    "outputId": "6ba88b6c-4541-49f8-e21f-086706c61e66"
   },
   "outputs": [
    {
     "name": "stdout",
     "output_type": "stream",
     "text": [
      "This code is written at 2023-03-28 12:44:20.256238\n"
     ]
    }
   ],
   "source": [
    "import datetime\n",
    "print(\"This code is written at \" + str(datetime.datetime.now()))"
   ]
  },
  {
   "cell_type": "markdown",
   "metadata": {
    "colab_type": "text",
    "id": "SxWW19iY2OWm"
   },
   "source": [
    "## Spatial Transformer Network for classification of distorted MNIST dataset"
   ]
  },
  {
   "cell_type": "markdown",
   "metadata": {
    "colab_type": "text",
    "id": "hzBuF0OV2OWn"
   },
   "source": [
    "## Spatial Transformer Network(STN) [1]\n",
    ">- CNNs are limited by the lack of ability to be spatially invariant to the input data\n",
    ">- Learnable module which explicitly allows the spatial manipulation of data within the network\n",
    ">- This differentiable module can be inserted into existing convolutional architectures\n",
    "\n",
    "<img src=\"http://drive.google.com/uc?export=view&id=1GV2Ix6wuikWdq6-tGkZv2vMQbqMokDbf\" alt=\"no_image\" style=\"width: 900px;\"/>\n",
    "\n",
    "### STN module\n",
    ">1. Localization Network\n",
    ">>- With given input feature map, this network outputs the parameters of the spatial transformation (e.g. 6 parameters for affine transformation)\n",
    ">>- Reference for affine transformation : [2],[3] <br>\n",
    ">> <img src=\"http://drive.google.com/uc?export=view&id=1qho08Gzea5qDTpmsnii0rvwiLzwy54K6\" alt=\"no_image\" style=\"width: 900px;\"/>\n",
    "\n",
    ">2. Parameterised sampling grid (Grid generator)\n",
    ">>- Set of points where the input feature map is sampled to produce the transformation which is a output of localization network  \n",
    ">>- Target coordinate and source coordinate are normalised ($ -1\\le(x_i^t, y_i^t)\\le1$,$ -1\\le(x_i^s, y_i^s)\\le1$ )\n",
    "<img src=\"http://drive.google.com/uc?export=view&id=1pRWzwevo1KjWi3WIC4K8SCkK4oYCD7FZ\" alt=\"no_image\" style=\"width: 500px;\"/>\n",
    ">3. Differentiable Image Sampling (Sampler)\n",
    ">>- Ouput feature map is produced by differentiable bilinear interpolation with input feature map and parameterised sampling grid\n",
    "    \n",
    "<img src=\"http://drive.google.com/uc?export=view&id=1EjoZ6CVLTD3QNl1CKbg1w3YiNf1CzOmH\" alt=\"no_image\" style=\"width: 900px;\"/>\n"
   ]
  },
  {
   "cell_type": "code",
   "execution_count": 121,
   "metadata": {
    "colab": {},
    "colab_type": "code",
    "id": "0AoHVrM52OWo"
   },
   "outputs": [],
   "source": [
    "import warnings\n",
    "import numpy as np\n",
    "import torch\n",
    "import torch.nn as nn\n",
    "import torch.optim as optim\n",
    "import torch.nn.init as init\n",
    "import torchvision.datasets as dset\n",
    "import torchvision.transforms as transforms\n",
    "from torch.utils.data import DataLoader\n",
    "from torch.autograd import Variable\n",
    "import torch.nn.functional as F\n",
    "import torchvision.utils as v_utils\n",
    "import matplotlib.pyplot as plt\n",
    "from PIL import Image\n",
    "import cv2\n",
    "import io\n",
    "import requests\n",
    "import os \n",
    "import copy\n",
    "import time\n",
    "%matplotlib inline\n",
    "\n",
    "warnings.filterwarnings(\"ignore\")"
   ]
  },
  {
   "cell_type": "code",
   "execution_count": 3,
   "metadata": {
    "colab": {},
    "colab_type": "code",
    "id": "g84YJUCD2OWr",
    "outputId": "006c73a3-31d5-4b0c-982d-34a203b6f27a"
   },
   "outputs": [
    {
     "data": {
      "text/plain": [
       "'NVIDIA RTX A5000'"
      ]
     },
     "execution_count": 3,
     "metadata": {},
     "output_type": "execute_result"
    }
   ],
   "source": [
    "device0 = torch.device(\"cuda:0\" if torch.cuda.is_available() else \"cpu\")\n",
    "torch.cuda.get_device_name(0)"
   ]
  },
  {
   "cell_type": "code",
   "execution_count": 4,
   "metadata": {
    "colab": {},
    "colab_type": "code",
    "id": "-gaJ_3Gv2OWv"
   },
   "outputs": [],
   "source": [
    "# parameters\n",
    "\n",
    "batch_size = 256\n",
    "learning_rate = 0.001\n",
    "num_epoch = 60\n",
    "num_classes = 10"
   ]
  },
  {
   "cell_type": "markdown",
   "metadata": {
    "colab_type": "text",
    "id": "HHuhiUfN2OWy"
   },
   "source": [
    "### 1. Dataset (Distorted MNIST, details in Appendix A.4 Distorted MNIST) [1point]\n",
    ">- Generate RTS(rotated, translated, scaled) MNIST \n",
    ">>- Use *torchvision.transforms*\n",
    ">>- Randomly rotating between $-45^\\circ, 45^\\circ$\n",
    ">>- Randomly scaling the digit by a factor of between $0.7,1.2$\n",
    ">>- Placing the digit in a random location in a $40\\times40$ region of image's center\n",
    ">>- Zerp padding to increase image's size for the digit's translation ($80\\times80$ image)\n",
    ">>- Images to tensor \n",
    ">>- Normalize data with MNIST dataset's mean and standard deviation printed in the 5th cell below\n"
   ]
  },
  {
   "cell_type": "markdown",
   "metadata": {
    "colab_type": "text",
    "id": "tFHJ42zM2OW0"
   },
   "source": [
    "#### 1.1 Write codes for dataset's transformation [1 point]\n"
   ]
  },
  {
   "cell_type": "code",
   "execution_count": 55,
   "metadata": {
    "colab": {},
    "colab_type": "code",
    "id": "hJaXUT-12OW1",
    "outputId": "830a480e-708b-4bf5-b508-cfb78023e757"
   },
   "outputs": [
    {
     "name": "stdout",
     "output_type": "stream",
     "text": [
      "STEP 1: DEFINE DATASET\n",
      "MNIST mean:  tensor(0.1307)\n",
      "MNIST std:  tensor(0.3081)\n"
     ]
    }
   ],
   "source": [
    "print('STEP 1: DEFINE DATASET')\n",
    "# RandomAffine: Random Rotation + Random Translation + Random Scale\n",
    "# The original size of the MNIST image is 28x28\n",
    "# The given mean and std of the MNIST is 0.1307 and 0.3081\n",
    "# First padding 28->40(pad 6) Second padding 40->80(pad 20)\n",
    "train_dataset = dset.MNIST(root='../dataset/lab04/MNIST', train=True, \n",
    "                        transform = transforms.Compose([\n",
    "                            transforms.Pad(6),\n",
    "                            transforms.RandomAffine((-45,45), translate=(0.2, 0.2), scale=(0.7,1.2)),\n",
    "                            transforms.Pad(20),\n",
    "                            transforms.ToTensor(),\n",
    "                            transforms.Normalize((0.1307, ), (0.3081, ))\n",
    "                        ]),\n",
    "                        target_transform=None,\n",
    "                        download=True)\n",
    "test_dataset = dset.MNIST(root='../dataset/lab04/MNIST', train=False, \n",
    "                        transform = transforms.Compose([\n",
    "                            transforms.Pad(6),\n",
    "                            transforms.RandomAffine((-45,45), translate=(0.2, 0.2), scale=(0.7,1.2)),\n",
    "                            transforms.Pad(20),\n",
    "                            transforms.ToTensor(),\n",
    "                            transforms.Normalize((0.1307, ), (0.3081, ))\n",
    "                        ]),\n",
    "                        target_transform=None,\n",
    "                        download=False)\n",
    "\n",
    "\n",
    "train_size = len(train_dataset)\n",
    "test_size = len(test_dataset)\n",
    "\n",
    "#dataset mean and std for normalization\n",
    "print('MNIST mean: ',train_dataset.train_data.float().mean()/255)\n",
    "print('MNIST std: ',train_dataset.train_data.float().std()/255)"
   ]
  },
  {
   "cell_type": "code",
   "execution_count": 56,
   "metadata": {
    "colab": {},
    "colab_type": "code",
    "id": "dmdruxLV2OW5",
    "outputId": "55ecb3fe-8846-4515-8299-44c879306370"
   },
   "outputs": [
    {
     "name": "stdout",
     "output_type": "stream",
     "text": [
      "Train dataset size: 60000\n",
      "Test dataset size: 10000\n"
     ]
    }
   ],
   "source": [
    "print('Train dataset size: {}'.format(len(train_dataset)))\n",
    "print('Test dataset size: {}'.format(len(test_dataset)))"
   ]
  },
  {
   "cell_type": "markdown",
   "metadata": {
    "colab_type": "text",
    "id": "P9PliNxe2OW9"
   },
   "source": [
    "###  Visualize Dataset\n"
   ]
  },
  {
   "cell_type": "code",
   "execution_count": 57,
   "metadata": {
    "colab": {},
    "colab_type": "code",
    "id": "D7MVg2wH2OW-",
    "outputId": "e0a1b9cb-c9db-477d-a825-91f0cacd88e7"
   },
   "outputs": [
    {
     "data": {
      "image/png": "[encoded data removed]",
      "text/plain": [
       "<Figure size 432x288 with 4 Axes>"
      ]
     },
     "metadata": {
      "needs_background": "light"
     },
     "output_type": "display_data"
    }
   ],
   "source": [
    "figure = plt.figure()\n",
    "\n",
    "for i in range(train_size):\n",
    "    sample = train_dataset[i]\n",
    "    figure.add_subplot(1,4,i+1).set_title('Label:{}'.format(sample[1]))\n",
    "    imgplot = plt.imshow((sample[0].squeeze(0).cpu()+1)/2)\n",
    "    if i == 3:\n",
    "        plt.show()\n",
    "        break"
   ]
  },
  {
   "cell_type": "code",
   "execution_count": 58,
   "metadata": {
    "colab": {},
    "colab_type": "code",
    "id": "h9wwuE7t2OXC",
    "outputId": "835d6b06-3445-4404-f5de-6f5869a060f5"
   },
   "outputs": [
    {
     "name": "stdout",
     "output_type": "stream",
     "text": [
      "STEP 2: LOADING DATASET\n"
     ]
    }
   ],
   "source": [
    "print('STEP 2: LOADING DATASET')\n",
    "\n",
    "train_loader = torch.utils.data.DataLoader(train_dataset,batch_size=batch_size, shuffle=True,num_workers=4,drop_last=True)\n",
    "test_loader = torch.utils.data.DataLoader(test_dataset,batch_size=batch_size, shuffle=False,num_workers=4,drop_last=True)"
   ]
  },
  {
   "cell_type": "markdown",
   "metadata": {
    "colab_type": "text",
    "id": "WkYr7Cp_2OXG"
   },
   "source": [
    "##  Model\n",
    "### 2. CNN Model Setup (details in Appendix A.4 Distorted MNIST) [3points]\n",
    ">\n",
    ">1. CNN \n",
    ">>- 2 convolutional layers and 2 max-pooling layers before final classification layer\n",
    ">>- Two conv layers have 32 and 64 filters and use ReLU \n",
    ">2. Classifier\n",
    ">>- 2 fully-connected layers and the number of input features to the last layer is 128\n",
    ">>- Also use ReLU as an activation function\n",
    ">3. ST module\n",
    ">>- At the beginning of the network\n",
    ">>- 2 convolutional layer and 2 fully-connected layer in localization network\n",
    ">>- Initialize the *fc_loc*'s final regression layer with identity transformation\n",
    ">>- Produce affine transformation parameters for RTS dataset\n",
    ">>- Reference for grid generator function: [4] <br>\n",
    ">>- Reference for sampler function: [5] <br>\n",
    ">\n",
    "> **++Hint: All learnable parameters' sizes of model are in the 10th cell below** <br>\n",
    "> **++For RTS datasets, the network has average pooling layer after the ST module to downsample the output of the transformer by a factor of 2**\n",
    "\n",
    "| **Layer** | **Kernel size** | **stride** | **padding** |\n",
    "|:---:|:---:|:---:|:---:|\n",
    "| 1st Conv of *cnn* | 9 | 1 | 0 |\n",
    "| 2nd Conv of *cnn* | 7 | 1 | 0 |\n",
    "| 1st Conv of *localization* | 5 | 1 | 0 |\n",
    "| 2nd Conv of *localization* | 5 | 1 | 0 |\n",
    "| AvgPool | 2 | 2 | 0 |\n",
    "| MaxPool | 2 | 2 | 0 |\n"
   ]
  },
  {
   "cell_type": "markdown",
   "metadata": {
    "colab_type": "text",
    "id": "cYHuW3KR2OXH"
   },
   "source": [
    "#### 2.1 Write codes for the model class (STN_CNN) [3 points]\n"
   ]
  },
  {
   "cell_type": "code",
   "execution_count": 59,
   "metadata": {
    "colab": {},
    "colab_type": "code",
    "id": "pT5hnJ6l2OXI",
    "outputId": "8ea84272-477f-4eb9-8574-c38f600d70c6",
    "scrolled": true
   },
   "outputs": [
    {
     "name": "stdout",
     "output_type": "stream",
     "text": [
      "STEP 3: CREATE MODEL CLASS (STN_CNN)\n"
     ]
    }
   ],
   "source": [
    "print('STEP 3: CREATE MODEL CLASS (STN_CNN)')\n",
    "\n",
    "\n",
    "class STN_CNN(nn.Module):\n",
    "    def __init__(self):\n",
    "        super(STN_CNN, self).__init__()\n",
    "        self.conv1 = nn.Conv2d(1, 32, kernel_size=9)\n",
    "        self.conv2 = nn.Conv2d(32, 64, kernel_size=7)\n",
    "        self.conv2_drop = nn.Dropout2d()\n",
    "        self.fc1 = nn.Linear(1600, 128)\n",
    "        self.fc2 = nn.Linear(128, 10)\n",
    "        self.avg2 = nn.AvgPool2d(2, stride=2)\n",
    "\n",
    "        # Spatial transformer localization-network\n",
    "        self.localization = nn.Sequential(\n",
    "            nn.Conv2d(1, 20, kernel_size=5),\n",
    "            nn.MaxPool2d(2, stride=2),\n",
    "            nn.ReLU(True),\n",
    "            nn.Conv2d(20, 20, kernel_size=5),\n",
    "            #nn.MaxPool2d(2, stride=2),\n",
    "            nn.ReLU(True)\n",
    "        )\n",
    "\n",
    "        # Regressor for the 3 * 2 affine matrix\n",
    "        self.fc_loc = nn.Sequential(\n",
    "            nn.Linear(23120, 20),\n",
    "            nn.ReLU(True),\n",
    "            nn.Linear(20, 6)\n",
    "        )\n",
    "\n",
    "        # Initialize the weights/bias with identity transformation\n",
    "        self.fc_loc[2].weight.data.zero_()\n",
    "        self.fc_loc[2].bias.data.copy_(torch.tensor([1, 0, 0, 0, 1, 0], dtype=torch.float))\n",
    "\n",
    "    # Spatial transformer network forward function\n",
    "    def stn(self, x):\n",
    "        xs = self.localization(x)\n",
    "        #print(xs.size())\n",
    "        xs = xs.view(-1, 23120)\n",
    "        theta = self.fc_loc(xs)\n",
    "        theta = theta.view(-1, 2, 3)\n",
    "\n",
    "        grid = F.affine_grid(theta, x.size())\n",
    "        x = F.grid_sample(x, grid)\n",
    "\n",
    "        return x\n",
    "\n",
    "    def forward(self, x):\n",
    "        # transform the input\n",
    "        x = self.stn(x)\n",
    "        x = self.avg2(x)\n",
    "        # Perform the usual forward pass\n",
    "        x = F.relu(F.max_pool2d(self.conv1(x), 2))\n",
    "        x = F.relu(F.max_pool2d(self.conv2_drop(self.conv2(x)), 2))\n",
    "        x = x.view(-1, 1600)\n",
    "        x = F.relu(self.fc1(x))\n",
    "        x = F.dropout(x, training=self.training)\n",
    "        x = self.fc2(x)\n",
    "        return F.log_softmax(x, dim=1)\n",
    "\n",
    "\n",
    "model = STN_CNN()"
   ]
  },
  {
   "cell_type": "code",
   "execution_count": 60,
   "metadata": {
    "colab": {},
    "colab_type": "code",
    "id": "IjmaoyEv2OXM",
    "outputId": "bf5a432d-493d-4d2d-d8e6-fc3c8783cde6"
   },
   "outputs": [
    {
     "name": "stdout",
     "output_type": "stream",
     "text": [
      "STEP 4: INSTANTIATE MODEL CLASS\n",
      "\n",
      "STN_CNN's state_dict:\n",
      "conv1.weight \t torch.Size([32, 1, 9, 9])\n",
      "conv1.bias \t torch.Size([32])\n",
      "conv2.weight \t torch.Size([64, 32, 7, 7])\n",
      "conv2.bias \t torch.Size([64])\n",
      "fc1.weight \t torch.Size([128, 1600])\n",
      "fc1.bias \t torch.Size([128])\n",
      "fc2.weight \t torch.Size([10, 128])\n",
      "fc2.bias \t torch.Size([10])\n",
      "localization.0.weight \t torch.Size([20, 1, 5, 5])\n",
      "localization.0.bias \t torch.Size([20])\n",
      "localization.3.weight \t torch.Size([20, 20, 5, 5])\n",
      "localization.3.bias \t torch.Size([20])\n",
      "fc_loc.0.weight \t torch.Size([20, 23120])\n",
      "fc_loc.0.bias \t torch.Size([20])\n",
      "fc_loc.2.weight \t torch.Size([6, 20])\n",
      "fc_loc.2.bias \t torch.Size([6])\n"
     ]
    }
   ],
   "source": [
    "print('STEP 4: INSTANTIATE MODEL CLASS\\n')\n",
    "model = STN_CNN()\n",
    "\n",
    "print(\"STN_CNN's state_dict:\")\n",
    "os.makedirs('weights/lab04', exist_ok=True)\n",
    "for param_tensor in model.state_dict():\n",
    "    print(param_tensor, \"\\t\", model.state_dict()[param_tensor].size())"
   ]
  },
  {
   "cell_type": "markdown",
   "metadata": {
    "colab_type": "text",
    "id": "SvfNJkk02OXQ"
   },
   "source": [
    "###  Parameter updates\n",
    "#### Scheduling (Annealing) the learning rate [6]\n",
    ">- In training deep networks, it is usually helpful to anneal the learning rate over time\n",
    ">>- With high learning rate, the optimizing system can't settle down into deeper parts of the loss function\n",
    ">- When to decay can be tricky\n",
    ">>- Slowly : Wasting computation with little improvement for a long time\n",
    ">>- Aggressively: Cooling too quickly, unable to find the best point\n",
    ">- 3 common types\n",
    ">>1. Step decay: Reduce the learning rate by some factor every few epochs (e.g. half every 5 epochs, or by 0.1 every 10 epochs)\n",
    ">>2. Exponential decay: In the form of mathematical formulation $\\alpha = \\alpha_0\\exp^{-kt}$, where $\\alpha_0, k$ are hyperparameters and $t$ is the iteration number(or units of epochs)\n",
    ">>3. $1/t$ decay : In the form of mathematical formulation $\\alpha = \\alpha_0/(1+kt)$, where $\\alpha_0, k$ are hyperparameters and $t$ is the iteration number\n",
    ">- In practice, the step decay is slightly preferable\n",
    "\n",
    "#### How to adjust learning rate in pytorch [7]\n",
    ">- *torch.optim.lr_scheduler* provides several methods based on the number of epochs\n",
    ">- For example, the step decay can be implemented by *torch.optim.lr_scheduler.StepLR* class (See reference for more types)\n",
    ">- We use *ReduceLROnPlateau* class in this lab which allows dynamic learning rate adjusting based on our validation measurements\n",
    ">>- Reduce the learning rate when our metric has stopped improving \n",
    ">>- The learning rate is reduced if no improvement of our metric is seen for a 'patience' number of epochs\n",
    ">>- See reference for more details \n"
   ]
  },
  {
   "cell_type": "code",
   "execution_count": 61,
   "metadata": {
    "colab": {},
    "colab_type": "code",
    "id": "jLusumF82OXR",
    "outputId": "5830bff3-6ed8-41a4-f499-72bab0e13ad8"
   },
   "outputs": [
    {
     "name": "stdout",
     "output_type": "stream",
     "text": [
      "STEP 5: INSTANTIATE OPTIMIZER CLASS\n"
     ]
    }
   ],
   "source": [
    "print('STEP 5: INSTANTIATE OPTIMIZER CLASS')\n",
    "\n",
    "optimizer = torch.optim.Adam(model.parameters(), lr=learning_rate)\n",
    "scheduler = optim.lr_scheduler.ReduceLROnPlateau(optimizer, mode='max', factor = 0.1, patience=6)\n",
    "\n",
    "\n",
    "def get_lr(optimizer):\n",
    "    for param_group in optimizer.param_groups:\n",
    "        return param_group['lr']"
   ]
  },
  {
   "cell_type": "markdown",
   "metadata": {
    "colab_type": "text",
    "id": "vvw4SWmz2OXY"
   },
   "source": [
    "### 3.Train/Test [2points]\n"
   ]
  },
  {
   "cell_type": "markdown",
   "metadata": {
    "colab_type": "text",
    "id": "bCEa1yPU2OXa"
   },
   "source": [
    "#### 3.1Tirain the STN_CNN model and print accuracy for every epochs [2 points]\n"
   ]
  },
  {
   "cell_type": "code",
   "execution_count": 62,
   "metadata": {
    "colab": {},
    "colab_type": "code",
    "id": "GyKtHA002OXb",
    "outputId": "0e82495e-393f-4624-e3c6-afd50cd69968",
    "scrolled": true
   },
   "outputs": [
    {
     "name": "stdout",
     "output_type": "stream",
     "text": [
      "STEP 6: INSTANTIATE LOSS CLASS\n",
      "STEP 7: TRAIN THE MODEL\n",
      "Train Epoch: 0 [0/60000 (0%) / Learning rate:0.001]\tLoss:2.306802  \n",
      "Train Epoch: 0 [51200/60000 (85%) / Learning rate:0.001]\tLoss:0.485392  \n",
      "Test set accuracy: 9030/9984 ( 90.44%)\n",
      "////Epoch elapsed time: 10.338676452636719////\n",
      "\n",
      "Train Epoch: 1 [0/60000 (0%) / Learning rate:0.001]\tLoss:0.474349  \n",
      "Train Epoch: 1 [51200/60000 (85%) / Learning rate:0.001]\tLoss:0.327418  \n",
      "Test set accuracy: 9432/9984 ( 94.47%)\n",
      "////Epoch elapsed time: 10.606171131134033////\n",
      "\n",
      "Train Epoch: 2 [0/60000 (0%) / Learning rate:0.001]\tLoss:0.388740  \n",
      "Train Epoch: 2 [51200/60000 (85%) / Learning rate:0.001]\tLoss:0.202103  \n",
      "Test set accuracy: 9538/9984 ( 95.53%)\n",
      "////Epoch elapsed time: 9.992096424102783////\n",
      "\n",
      "Train Epoch: 3 [0/60000 (0%) / Learning rate:0.001]\tLoss:0.281278  \n",
      "Train Epoch: 3 [51200/60000 (85%) / Learning rate:0.001]\tLoss:0.290233  \n",
      "Test set accuracy: 9632/9984 ( 96.47%)\n",
      "////Epoch elapsed time: 10.416854858398438////\n",
      "\n",
      "Train Epoch: 4 [0/60000 (0%) / Learning rate:0.001]\tLoss:0.159315  \n",
      "Train Epoch: 4 [51200/60000 (85%) / Learning rate:0.001]\tLoss:0.124111  \n",
      "Test set accuracy: 9631/9984 ( 96.46%)\n",
      "////Epoch elapsed time: 9.90890121459961////\n",
      "\n",
      "Train Epoch: 5 [0/60000 (0%) / Learning rate:0.001]\tLoss:0.191664  \n",
      "Train Epoch: 5 [51200/60000 (85%) / Learning rate:0.001]\tLoss:0.143504  \n",
      "Test set accuracy: 9727/9984 ( 97.43%)\n",
      "////Epoch elapsed time: 10.306260585784912////\n",
      "\n",
      "Train Epoch: 6 [0/60000 (0%) / Learning rate:0.001]\tLoss:0.179056  \n",
      "Train Epoch: 6 [51200/60000 (85%) / Learning rate:0.001]\tLoss:0.308707  \n",
      "Test set accuracy: 9687/9984 ( 97.03%)\n",
      "////Epoch elapsed time: 10.038183450698853////\n",
      "\n",
      "Train Epoch: 7 [0/60000 (0%) / Learning rate:0.001]\tLoss:0.256632  \n",
      "Train Epoch: 7 [51200/60000 (85%) / Learning rate:0.001]\tLoss:0.099995  \n",
      "Test set accuracy: 9730/9984 ( 97.46%)\n",
      "////Epoch elapsed time: 10.456660509109497////\n",
      "\n",
      "Train Epoch: 8 [0/60000 (0%) / Learning rate:0.001]\tLoss:0.150785  \n",
      "Train Epoch: 8 [51200/60000 (85%) / Learning rate:0.001]\tLoss:0.142084  \n",
      "Test set accuracy: 9764/9984 ( 97.80%)\n",
      "////Epoch elapsed time: 10.071428298950195////\n",
      "\n",
      "Train Epoch: 9 [0/60000 (0%) / Learning rate:0.001]\tLoss:0.152190  \n",
      "Train Epoch: 9 [51200/60000 (85%) / Learning rate:0.001]\tLoss:0.207377  \n",
      "Test set accuracy: 9762/9984 ( 97.78%)\n",
      "////Epoch elapsed time: 10.317880153656006////\n",
      "\n",
      "Train Epoch: 10 [0/60000 (0%) / Learning rate:0.001]\tLoss:0.143636  \n",
      "Train Epoch: 10 [51200/60000 (85%) / Learning rate:0.001]\tLoss:0.109441  \n",
      "Test set accuracy: 9770/9984 ( 97.86%)\n",
      "////Epoch elapsed time: 10.259860515594482////\n",
      "\n",
      "Train Epoch: 11 [0/60000 (0%) / Learning rate:0.001]\tLoss:0.091546  \n",
      "Train Epoch: 11 [51200/60000 (85%) / Learning rate:0.001]\tLoss:0.097608  \n",
      "Test set accuracy: 9785/9984 ( 98.01%)\n",
      "////Epoch elapsed time: 10.217193841934204////\n",
      "\n",
      "Train Epoch: 12 [0/60000 (0%) / Learning rate:0.001]\tLoss:0.086358  \n",
      "Train Epoch: 12 [51200/60000 (85%) / Learning rate:0.001]\tLoss:0.090494  \n",
      "Test set accuracy: 9807/9984 ( 98.23%)\n",
      "////Epoch elapsed time: 10.202618598937988////\n",
      "\n",
      "Train Epoch: 13 [0/60000 (0%) / Learning rate:0.001]\tLoss:0.094186  \n",
      "Train Epoch: 13 [51200/60000 (85%) / Learning rate:0.001]\tLoss:0.093370  \n",
      "Test set accuracy: 9828/9984 ( 98.44%)\n",
      "////Epoch elapsed time: 10.365817070007324////\n",
      "\n",
      "Train Epoch: 14 [0/60000 (0%) / Learning rate:0.001]\tLoss:0.080151  \n",
      "Train Epoch: 14 [51200/60000 (85%) / Learning rate:0.001]\tLoss:0.140476  \n",
      "Test set accuracy: 9802/9984 ( 98.18%)\n",
      "////Epoch elapsed time: 10.39025354385376////\n",
      "\n",
      "Train Epoch: 15 [0/60000 (0%) / Learning rate:0.001]\tLoss:0.094174  \n",
      "Train Epoch: 15 [51200/60000 (85%) / Learning rate:0.001]\tLoss:0.086372  \n",
      "Test set accuracy: 9799/9984 ( 98.15%)\n",
      "////Epoch elapsed time: 10.113954544067383////\n",
      "\n",
      "Train Epoch: 16 [0/60000 (0%) / Learning rate:0.001]\tLoss:0.068754  \n",
      "Train Epoch: 16 [51200/60000 (85%) / Learning rate:0.001]\tLoss:0.090453  \n",
      "Test set accuracy: 9813/9984 ( 98.29%)\n",
      "////Epoch elapsed time: 10.097029447555542////\n",
      "\n",
      "Train Epoch: 17 [0/60000 (0%) / Learning rate:0.001]\tLoss:0.085134  \n",
      "Train Epoch: 17 [51200/60000 (85%) / Learning rate:0.001]\tLoss:0.111002  \n",
      "Test set accuracy: 9842/9984 ( 98.58%)\n",
      "////Epoch elapsed time: 10.49196171760559////\n",
      "\n",
      "Train Epoch: 18 [0/60000 (0%) / Learning rate:0.001]\tLoss:0.083839  \n",
      "Train Epoch: 18 [51200/60000 (85%) / Learning rate:0.001]\tLoss:0.117965  \n",
      "Test set accuracy: 9791/9984 ( 98.07%)\n",
      "////Epoch elapsed time: 10.005065441131592////\n",
      "\n",
      "Train Epoch: 19 [0/60000 (0%) / Learning rate:0.001]\tLoss:0.106379  \n",
      "Train Epoch: 19 [51200/60000 (85%) / Learning rate:0.001]\tLoss:0.107433  \n",
      "Test set accuracy: 9825/9984 ( 98.41%)\n",
      "////Epoch elapsed time: 10.497474193572998////\n",
      "\n",
      "Train Epoch: 20 [0/60000 (0%) / Learning rate:0.001]\tLoss:0.123196  \n",
      "Train Epoch: 20 [51200/60000 (85%) / Learning rate:0.001]\tLoss:0.127579  \n",
      "Test set accuracy: 9824/9984 ( 98.40%)\n",
      "////Epoch elapsed time: 10.390226602554321////\n",
      "\n",
      "Train Epoch: 21 [0/60000 (0%) / Learning rate:0.001]\tLoss:0.092060  \n",
      "Train Epoch: 21 [51200/60000 (85%) / Learning rate:0.001]\tLoss:0.138771  \n",
      "Test set accuracy: 9823/9984 ( 98.39%)\n",
      "////Epoch elapsed time: 9.893527746200562////\n",
      "\n",
      "Train Epoch: 22 [0/60000 (0%) / Learning rate:0.001]\tLoss:0.143367  \n",
      "Train Epoch: 22 [51200/60000 (85%) / Learning rate:0.001]\tLoss:0.114604  \n",
      "Test set accuracy: 9790/9984 ( 98.06%)\n",
      "////Epoch elapsed time: 10.430329322814941////\n",
      "\n",
      "Train Epoch: 23 [0/60000 (0%) / Learning rate:0.001]\tLoss:0.079882  \n",
      "Train Epoch: 23 [51200/60000 (85%) / Learning rate:0.001]\tLoss:0.160993  \n",
      "Test set accuracy: 9823/9984 ( 98.39%)\n",
      "////Epoch elapsed time: 10.182145357131958////\n",
      "\n",
      "Train Epoch: 24 [0/60000 (0%) / Learning rate:0.001]\tLoss:0.094906  \n",
      "Train Epoch: 24 [51200/60000 (85%) / Learning rate:0.001]\tLoss:0.099837  \n",
      "Test set accuracy: 9833/9984 ( 98.49%)\n",
      "////Epoch elapsed time: 10.26242208480835////\n",
      "\n",
      "Train Epoch: 25 [0/60000 (0%) / Learning rate:0.0001]\tLoss:0.147787  \n",
      "Train Epoch: 25 [51200/60000 (85%) / Learning rate:0.0001]\tLoss:0.070054  \n",
      "Test set accuracy: 9875/9984 ( 98.91%)\n",
      "////Epoch elapsed time: 10.301730632781982////\n",
      "\n",
      "Train Epoch: 26 [0/60000 (0%) / Learning rate:0.0001]\tLoss:0.083804  \n",
      "Train Epoch: 26 [51200/60000 (85%) / Learning rate:0.0001]\tLoss:0.062207  \n",
      "Test set accuracy: 9884/9984 ( 99.00%)\n",
      "////Epoch elapsed time: 10.464526176452637////\n",
      "\n",
      "Train Epoch: 27 [0/60000 (0%) / Learning rate:0.0001]\tLoss:0.039697  \n",
      "Train Epoch: 27 [51200/60000 (85%) / Learning rate:0.0001]\tLoss:0.044866  \n",
      "Test set accuracy: 9875/9984 ( 98.91%)\n",
      "////Epoch elapsed time: 10.282792091369629////\n",
      "\n",
      "Train Epoch: 28 [0/60000 (0%) / Learning rate:0.0001]\tLoss:0.055664  \n",
      "Train Epoch: 28 [51200/60000 (85%) / Learning rate:0.0001]\tLoss:0.059545  \n",
      "Test set accuracy: 9871/9984 ( 98.87%)\n",
      "////Epoch elapsed time: 10.583692073822021////\n",
      "\n",
      "Train Epoch: 29 [0/60000 (0%) / Learning rate:0.0001]\tLoss:0.091382  \n",
      "Train Epoch: 29 [51200/60000 (85%) / Learning rate:0.0001]\tLoss:0.148066  \n",
      "Test set accuracy: 9874/9984 ( 98.90%)\n",
      "////Epoch elapsed time: 10.48658561706543////\n",
      "\n",
      "Train Epoch: 30 [0/60000 (0%) / Learning rate:0.0001]\tLoss:0.071546  \n",
      "Train Epoch: 30 [51200/60000 (85%) / Learning rate:0.0001]\tLoss:0.154861  \n",
      "Test set accuracy: 9882/9984 ( 98.98%)\n",
      "////Epoch elapsed time: 10.172759294509888////\n",
      "\n",
      "Train Epoch: 31 [0/60000 (0%) / Learning rate:0.0001]\tLoss:0.108115  \n",
      "Train Epoch: 31 [51200/60000 (85%) / Learning rate:0.0001]\tLoss:0.041084  \n",
      "Test set accuracy: 9861/9984 ( 98.77%)\n",
      "////Epoch elapsed time: 10.922496318817139////\n",
      "\n",
      "Train Epoch: 32 [0/60000 (0%) / Learning rate:0.0001]\tLoss:0.075641  \n",
      "Train Epoch: 32 [51200/60000 (85%) / Learning rate:0.0001]\tLoss:0.054760  \n",
      "Test set accuracy: 9891/9984 ( 99.07%)\n",
      "////Epoch elapsed time: 10.262736320495605////\n",
      "\n",
      "Train Epoch: 33 [0/60000 (0%) / Learning rate:0.0001]\tLoss:0.064574  \n",
      "Train Epoch: 33 [51200/60000 (85%) / Learning rate:0.0001]\tLoss:0.049123  \n",
      "Test set accuracy: 9879/9984 ( 98.95%)\n",
      "////Epoch elapsed time: 10.152611017227173////\n",
      "\n",
      "Train Epoch: 34 [0/60000 (0%) / Learning rate:0.0001]\tLoss:0.052198  \n",
      "Train Epoch: 34 [51200/60000 (85%) / Learning rate:0.0001]\tLoss:0.072939  \n",
      "Test set accuracy: 9880/9984 ( 98.96%)\n",
      "////Epoch elapsed time: 10.283665180206299////\n",
      "\n",
      "Train Epoch: 35 [0/60000 (0%) / Learning rate:0.0001]\tLoss:0.079767  \n",
      "Train Epoch: 35 [51200/60000 (85%) / Learning rate:0.0001]\tLoss:0.037471  \n",
      "Test set accuracy: 9875/9984 ( 98.91%)\n",
      "////Epoch elapsed time: 10.092835664749146////\n",
      "\n",
      "Train Epoch: 36 [0/60000 (0%) / Learning rate:0.0001]\tLoss:0.075149  \n",
      "Train Epoch: 36 [51200/60000 (85%) / Learning rate:0.0001]\tLoss:0.040712  \n",
      "Test set accuracy: 9893/9984 ( 99.09%)\n",
      "////Epoch elapsed time: 10.196385860443115////\n",
      "\n",
      "Train Epoch: 37 [0/60000 (0%) / Learning rate:0.0001]\tLoss:0.066651  \n",
      "Train Epoch: 37 [51200/60000 (85%) / Learning rate:0.0001]\tLoss:0.083625  \n",
      "Test set accuracy: 9874/9984 ( 98.90%)\n",
      "////Epoch elapsed time: 10.18028712272644////\n",
      "\n",
      "Train Epoch: 38 [0/60000 (0%) / Learning rate:0.0001]\tLoss:0.087919  \n",
      "Train Epoch: 38 [51200/60000 (85%) / Learning rate:0.0001]\tLoss:0.042494  \n",
      "Test set accuracy: 9875/9984 ( 98.91%)\n",
      "////Epoch elapsed time: 10.332737922668457////\n",
      "\n",
      "Train Epoch: 39 [0/60000 (0%) / Learning rate:0.0001]\tLoss:0.073168  \n",
      "Train Epoch: 39 [51200/60000 (85%) / Learning rate:0.0001]\tLoss:0.015172  \n",
      "Test set accuracy: 9884/9984 ( 99.00%)\n",
      "////Epoch elapsed time: 10.75911021232605////\n",
      "\n",
      "Train Epoch: 40 [0/60000 (0%) / Learning rate:0.0001]\tLoss:0.054463  \n",
      "Train Epoch: 40 [51200/60000 (85%) / Learning rate:0.0001]\tLoss:0.074773  \n",
      "Test set accuracy: 9881/9984 ( 98.97%)\n",
      "////Epoch elapsed time: 10.46133017539978////\n",
      "\n",
      "Train Epoch: 41 [0/60000 (0%) / Learning rate:0.0001]\tLoss:0.045076  \n",
      "Train Epoch: 41 [51200/60000 (85%) / Learning rate:0.0001]\tLoss:0.034074  \n",
      "Test set accuracy: 9885/9984 ( 99.01%)\n",
      "////Epoch elapsed time: 10.513702154159546////\n",
      "\n",
      "Train Epoch: 42 [0/60000 (0%) / Learning rate:0.0001]\tLoss:0.053997  \n",
      "Train Epoch: 42 [51200/60000 (85%) / Learning rate:0.0001]\tLoss:0.058054  \n",
      "Test set accuracy: 9893/9984 ( 99.09%)\n",
      "////Epoch elapsed time: 10.172832489013672////\n",
      "\n",
      "Train Epoch: 43 [0/60000 (0%) / Learning rate:0.0001]\tLoss:0.042667  \n",
      "Train Epoch: 43 [51200/60000 (85%) / Learning rate:0.0001]\tLoss:0.038210  \n",
      "Test set accuracy: 9878/9984 ( 98.94%)\n",
      "////Epoch elapsed time: 10.411074876785278////\n",
      "\n",
      "Train Epoch: 44 [0/60000 (0%) / Learning rate:1e-05]\tLoss:0.072064  \n",
      "Train Epoch: 44 [51200/60000 (85%) / Learning rate:1e-05]\tLoss:0.065098  \n",
      "Test set accuracy: 9872/9984 ( 98.88%)\n",
      "////Epoch elapsed time: 10.102622270584106////\n",
      "\n",
      "Train Epoch: 45 [0/60000 (0%) / Learning rate:1e-05]\tLoss:0.040739  \n",
      "Train Epoch: 45 [51200/60000 (85%) / Learning rate:1e-05]\tLoss:0.030976  \n",
      "Test set accuracy: 9891/9984 ( 99.07%)\n",
      "////Epoch elapsed time: 10.28589391708374////\n",
      "\n",
      "Train Epoch: 46 [0/60000 (0%) / Learning rate:1e-05]\tLoss:0.056554  \n",
      "Train Epoch: 46 [51200/60000 (85%) / Learning rate:1e-05]\tLoss:0.036396  \n",
      "Test set accuracy: 9888/9984 ( 99.04%)\n",
      "////Epoch elapsed time: 10.508980989456177////\n",
      "\n",
      "Train Epoch: 47 [0/60000 (0%) / Learning rate:1e-05]\tLoss:0.069306  \n",
      "Train Epoch: 47 [51200/60000 (85%) / Learning rate:1e-05]\tLoss:0.008584  \n",
      "Test set accuracy: 9885/9984 ( 99.01%)\n",
      "////Epoch elapsed time: 10.267597675323486////\n",
      "\n",
      "Train Epoch: 48 [0/60000 (0%) / Learning rate:1e-05]\tLoss:0.030565  \n",
      "Train Epoch: 48 [51200/60000 (85%) / Learning rate:1e-05]\tLoss:0.043354  \n",
      "Test set accuracy: 9877/9984 ( 98.93%)\n",
      "////Epoch elapsed time: 10.28766918182373////\n",
      "\n",
      "Train Epoch: 49 [0/60000 (0%) / Learning rate:1e-05]\tLoss:0.046370  \n",
      "Train Epoch: 49 [51200/60000 (85%) / Learning rate:1e-05]\tLoss:0.044970  \n",
      "Test set accuracy: 9888/9984 ( 99.04%)\n",
      "////Epoch elapsed time: 10.15397047996521////\n",
      "\n",
      "Train Epoch: 50 [0/60000 (0%) / Learning rate:1e-05]\tLoss:0.079893  \n",
      "Train Epoch: 50 [51200/60000 (85%) / Learning rate:1e-05]\tLoss:0.045346  \n",
      "Test set accuracy: 9879/9984 ( 98.95%)\n",
      "////Epoch elapsed time: 10.143936157226562////\n",
      "\n",
      "Train Epoch: 51 [0/60000 (0%) / Learning rate:1.0000000000000002e-06]\tLoss:0.116322  \n",
      "Train Epoch: 51 [51200/60000 (85%) / Learning rate:1.0000000000000002e-06]\tLoss:0.037025  \n",
      "Test set accuracy: 9893/9984 ( 99.09%)\n",
      "////Epoch elapsed time: 10.058101415634155////\n",
      "\n",
      "Train Epoch: 52 [0/60000 (0%) / Learning rate:1.0000000000000002e-06]\tLoss:0.070331  \n",
      "Train Epoch: 52 [51200/60000 (85%) / Learning rate:1.0000000000000002e-06]\tLoss:0.038487  \n",
      "Test set accuracy: 9882/9984 ( 98.98%)\n",
      "////Epoch elapsed time: 10.494333744049072////\n",
      "\n",
      "Train Epoch: 53 [0/60000 (0%) / Learning rate:1.0000000000000002e-06]\tLoss:0.013872  \n",
      "Train Epoch: 53 [51200/60000 (85%) / Learning rate:1.0000000000000002e-06]\tLoss:0.084126  \n",
      "Test set accuracy: 9884/9984 ( 99.00%)\n",
      "////Epoch elapsed time: 10.248337507247925////\n",
      "\n",
      "Train Epoch: 54 [0/60000 (0%) / Learning rate:1.0000000000000002e-06]\tLoss:0.036976  \n",
      "Train Epoch: 54 [51200/60000 (85%) / Learning rate:1.0000000000000002e-06]\tLoss:0.049146  \n",
      "Test set accuracy: 9882/9984 ( 98.98%)\n",
      "////Epoch elapsed time: 10.021217584609985////\n",
      "\n",
      "Train Epoch: 55 [0/60000 (0%) / Learning rate:1.0000000000000002e-06]\tLoss:0.050215  \n",
      "Train Epoch: 55 [51200/60000 (85%) / Learning rate:1.0000000000000002e-06]\tLoss:0.021931  \n",
      "Test set accuracy: 9894/9984 ( 99.10%)\n",
      "////Epoch elapsed time: 10.511351346969604////\n",
      "\n",
      "Train Epoch: 56 [0/60000 (0%) / Learning rate:1.0000000000000002e-06]\tLoss:0.079145  \n",
      "Train Epoch: 56 [51200/60000 (85%) / Learning rate:1.0000000000000002e-06]\tLoss:0.044708  \n",
      "Test set accuracy: 9879/9984 ( 98.95%)\n",
      "////Epoch elapsed time: 10.478519678115845////\n",
      "\n",
      "Train Epoch: 57 [0/60000 (0%) / Learning rate:1.0000000000000002e-06]\tLoss:0.047487  \n",
      "Train Epoch: 57 [51200/60000 (85%) / Learning rate:1.0000000000000002e-06]\tLoss:0.047456  \n",
      "Test set accuracy: 9895/9984 ( 99.11%)\n",
      "////Epoch elapsed time: 10.30937123298645////\n",
      "\n",
      "Train Epoch: 58 [0/60000 (0%) / Learning rate:1.0000000000000002e-06]\tLoss:0.083324  \n",
      "Train Epoch: 58 [51200/60000 (85%) / Learning rate:1.0000000000000002e-06]\tLoss:0.046926  \n",
      "Test set accuracy: 9882/9984 ( 98.98%)\n",
      "////Epoch elapsed time: 10.257492303848267////\n",
      "\n",
      "Train Epoch: 59 [0/60000 (0%) / Learning rate:1.0000000000000002e-06]\tLoss:0.072760  \n",
      "Train Epoch: 59 [51200/60000 (85%) / Learning rate:1.0000000000000002e-06]\tLoss:0.045577  \n",
      "Test set accuracy: 9891/9984 ( 99.07%)\n",
      "////Epoch elapsed time: 9.987400770187378////\n",
      "\n"
     ]
    }
   ],
   "source": [
    "print('STEP 6: INSTANTIATE LOSS CLASS')\n",
    "#############\n",
    "# CODE HERE #\n",
    "#############\n",
    "# I will use F.nll loss for Loss Class, and use code below\n",
    "# Softmax + CrossEntropyLoss = Log_Softmax + Nll_loss\n",
    "# I first attempt model training with log_softmax+nll_loss, and it worked well. So I didn't fix it to CrossEntropy\n",
    "\n",
    "\n",
    "# Model to GPU\n",
    "\n",
    "model.to(device0)\n",
    "\n",
    "print('STEP 7: TRAIN THE MODEL')\n",
    "best_acc = 0\n",
    "\n",
    "for epoch in range(num_epoch):\n",
    "    #TRAIN\n",
    "    model.train()\n",
    "    start = time.time()\n",
    "    \n",
    "    for j,(img,label) in enumerate(train_loader):\n",
    "        #print(img.size())\n",
    "        img, label = img.to(device0), label.to(device0)\n",
    "        optimizer.zero_grad()\n",
    "        output = model(img)\n",
    "        loss = F.nll_loss(output, label)\n",
    "        loss.backward()\n",
    "        optimizer.step()\n",
    "        #############\n",
    "        # CODE HERE #\n",
    "        #############\n",
    "        if j % 200 == 0:\n",
    "            \n",
    "            print('Train Epoch: {} [{}/{} ({:.0f}%) / Learning rate:{}]\\tLoss:{:.6f}  '.format(\n",
    "                    epoch, j * len(img), train_size,\n",
    "                    100. * j / len(train_loader),get_lr(optimizer), loss.item()))\n",
    "            \n",
    "           \n",
    "                    \n",
    "    #Test\n",
    "    model.eval()\n",
    "    correct = 0\n",
    "    total = 0\n",
    "    for img, label in test_loader:\n",
    "        img, label = img.to(device0), label.to(device0)\n",
    "        output = model(img)\n",
    "        _, predicted = torch.max(output.data, 1)\n",
    "        total += label.size(0)\n",
    "        correct += (predicted==label).sum()\n",
    "        \n",
    "    accuracy = 100*correct.item()/total\n",
    "    print(f'Test set accuracy: {correct.item()}/{total} ({accuracy: .2f}%)')\n",
    "    #############\n",
    "    # CODE HERE #\n",
    "    #############\n",
    "    print('////Epoch elapsed time: {}////\\n'.format(time.time() - start))  \n",
    "    \n",
    "    if accuracy > best_acc :\n",
    "        torch.save({\n",
    "            'epoch': epoch,\n",
    "            'model_state_dict': model.state_dict(),\n",
    "            'optimizer_state_dict': optimizer.state_dict(),\n",
    "            'loss': loss,\n",
    "            'accuracy': accuracy\n",
    "            \n",
    "            }, './weights/lab04/best_model_STN.tar')\n",
    "       \n",
    "        best_acc = accuracy\n",
    "    \n",
    "    scheduler.step(accuracy)"
   ]
  },
  {
   "cell_type": "markdown",
   "metadata": {
    "colab_type": "text",
    "id": "yhPP8ATu2OXg"
   },
   "source": [
    "### 4. Visualize original inputs and transformed inputs with best pre-trained model  [3points]\n"
   ]
  },
  {
   "cell_type": "code",
   "execution_count": 63,
   "metadata": {
    "colab": {},
    "colab_type": "code",
    "id": "aZj6oLi62OXi"
   },
   "outputs": [
    {
     "data": {
      "text/plain": [
       "<All keys matched successfully>"
      ]
     },
     "execution_count": 63,
     "metadata": {},
     "output_type": "execute_result"
    }
   ],
   "source": [
    "model = STN_CNN()\n",
    "checkpoint = torch.load('./weights/lab04/best_model_STN.tar')\n",
    "model.load_state_dict(checkpoint['model_state_dict'])"
   ]
  },
  {
   "cell_type": "markdown",
   "metadata": {
    "colab_type": "text",
    "id": "h6WD4pCv2OXk"
   },
   "source": [
    "#### Our pretrained model's best accuracy\n"
   ]
  },
  {
   "cell_type": "code",
   "execution_count": 64,
   "metadata": {
    "colab": {},
    "colab_type": "code",
    "id": "UB4GmH2g2OXl",
    "outputId": "83e334ed-b093-4d82-d0be-c29ad5c4ee29"
   },
   "outputs": [
    {
     "name": "stdout",
     "output_type": "stream",
     "text": [
      "Best accuracy of our model with ST module:  99.10857371794872\n"
     ]
    }
   ],
   "source": [
    "print('Best accuracy of our model with ST module: ', checkpoint['accuracy'])"
   ]
  },
  {
   "cell_type": "code",
   "execution_count": 67,
   "metadata": {
    "colab": {},
    "colab_type": "code",
    "id": "3F5ppqXP2OXr"
   },
   "outputs": [],
   "source": [
    "# Tensor image to array image\n",
    "def reprocess_image(img):\n",
    "    \n",
    "    img_re = copy.copy(img.cpu().data.numpy())\n",
    "    \n",
    "    mean = [-0.1307,-0.1307,-0.1307]\n",
    "    std = [1/0.3081,1/0.3081,1/0.3081]\n",
    "    \n",
    "    for c in range(3):\n",
    "        img_re[c,:,:] /= std[c]\n",
    "        img_re[c,:,:] -= mean[c]\n",
    "        \n",
    "    img_re[img_re > 1] = 1\n",
    "    img_re[img_re < 0] = 0\n",
    "    \n",
    "    img_re = img_re.transpose(1,2,0)\n",
    "    \n",
    "    return img_re"
   ]
  },
  {
   "cell_type": "markdown",
   "metadata": {
    "colab_type": "text",
    "id": "suci-kWM2OXt"
   },
   "source": [
    "#### 4.1 Write codes for visualization of original inputsa and transformed inputs [3 points]\n",
    ">- VisualizeSTN class with an input of our pretrained model\n",
    ">- *forward_stn*: Forward pass of our pretrained STN module to produce transformed inputs\n",
    ">- *visualize*: Visualizing the original inputs and the transformed ones in a grid \n",
    ">>1. Forward pass of STN module to produce the transformed inputs\n",
    ">>2. Unnormalize both images using *reprocess_image* function\n",
    ">>3. Make grids of them \n",
    ">>4. Visualize \n"
   ]
  },
  {
   "cell_type": "code",
   "execution_count": 111,
   "metadata": {
    "colab": {},
    "colab_type": "code",
    "id": "zcdkczCj2OXu"
   },
   "outputs": [],
   "source": [
    "class VisualizeSTN():\n",
    "    \n",
    "    def __init__(self, model):\n",
    "        self.model = model\n",
    "        self.model.to(device0)\n",
    "        self.model.eval()\n",
    "    \n",
    "    # Output transformed inputs\n",
    "    def forward_stn(self,x):\n",
    "        #############\n",
    "        # CODE HERE #\n",
    "        #############\n",
    "        x = self.model.stn(x)\n",
    "        return x\n",
    "    \n",
    "    def visualize(self, img):\n",
    "        stn_img = self.forward_stn(img)\n",
    "        \n",
    "        with torch.no_grad():\n",
    "            in_grid = reprocess_image(\n",
    "                v_utils.make_grid(img, nrow = 4))\n",
    "\n",
    "            out_grid = reprocess_image(\n",
    "                v_utils.make_grid(stn_img, nrow = 4))\n",
    "\n",
    "            # Plot the results side-by-side\n",
    "            f, axarr = plt.subplots(1, 2)\n",
    "            axarr[0].imshow(in_grid)\n",
    "            axarr[0].set_title('Dataset Images')\n",
    "\n",
    "            axarr[1].imshow(out_grid)\n",
    "            axarr[1].set_title('Transformed Images')"
   ]
  },
  {
   "cell_type": "code",
   "execution_count": 112,
   "metadata": {
    "colab": {},
    "colab_type": "code",
    "id": "-mkGExZk2OXx",
    "outputId": "b34b0bc7-6b72-407d-a7d1-868e3cbc1aaf",
    "scrolled": true
   },
   "outputs": [
    {
     "data": {
      "image/png": "[encoded data removed]",
      "text/plain": [
       "<Figure size 432x288 with 2 Axes>"
      ]
     },
     "metadata": {
      "needs_background": "light"
     },
     "output_type": "display_data"
    },
    {
     "data": {
      "image/png": "[encoded data removed]",
      "text/plain": [
       "<Figure size 432x288 with 2 Axes>"
      ]
     },
     "metadata": {
      "needs_background": "light"
     },
     "output_type": "display_data"
    },
    {
     "data": {
      "image/png": "[encoded data removed]",
      "text/plain": [
       "<Figure size 432x288 with 2 Axes>"
      ]
     },
     "metadata": {
      "needs_background": "light"
     },
     "output_type": "display_data"
    }
   ],
   "source": [
    "visualize_stn = VisualizeSTN(model)\n",
    "for i, (image,label) in enumerate(test_loader):\n",
    "    \n",
    "    img = image[:16].to(device0)\n",
    "    visualize_stn.visualize(img)\n",
    "    \n",
    "    if (i+1) == 3:\n",
    "        break"
   ]
  },
  {
   "cell_type": "markdown",
   "metadata": {
    "colab_type": "text",
    "id": "HEjhSogi2OX0"
   },
   "source": [
    "### 5.Comparison with the cnn model without ST module [1point]\n",
    ">- Model composed of cnn and classifier modules same with our pretrained CNN_STN model \n",
    ">- Use *cnn* and *classifier* modules you implemented \n"
   ]
  },
  {
   "cell_type": "markdown",
   "metadata": {
    "colab_type": "text",
    "id": "pecTLkVL2OX0"
   },
   "source": [
    "#### 5.1 Write codes for the model class"
   ]
  },
  {
   "cell_type": "code",
   "execution_count": 122,
   "metadata": {
    "colab": {},
    "colab_type": "code",
    "id": "cnhjymoE2OX2"
   },
   "outputs": [],
   "source": [
    "#############\n",
    "# CODE HERE #\n",
    "#############\n",
    "class CNN(nn.Module):\n",
    "    def __init__(self):\n",
    "        super(CNN, self).__init__()\n",
    "        self.conv1 = nn.Conv2d(1, 32, kernel_size=9)\n",
    "        self.conv2 = nn.Conv2d(32, 64, kernel_size=7)\n",
    "        self.conv2_drop = nn.Dropout2d()\n",
    "        self.fc1 = nn.Linear(1600, 128)\n",
    "        self.fc2 = nn.Linear(128, 10)\n",
    "        self.avg2 = nn.AvgPool2d(2, stride=2)\n",
    "\n",
    "    def forward(self, x):\n",
    "        x = self.avg2(x)\n",
    "        # Perform the usual forward pass\n",
    "        x = F.relu(F.max_pool2d(self.conv1(x), 2))\n",
    "        x = F.relu(F.max_pool2d(self.conv2_drop(self.conv2(x)), 2))\n",
    "        x = x.view(-1, 1600)\n",
    "        x = F.relu(self.fc1(x))\n",
    "        x = F.dropout(x, training=self.training)\n",
    "        x = self.fc2(x)\n",
    "        return F.log_softmax(x, dim=1)\n"
   ]
  },
  {
   "cell_type": "code",
   "execution_count": 123,
   "metadata": {
    "colab": {},
    "colab_type": "code",
    "id": "M0dtTNMV2OX4",
    "outputId": "a6c0f479-8a8c-425b-ae7d-ca71e688e5be"
   },
   "outputs": [
    {
     "name": "stdout",
     "output_type": "stream",
     "text": [
      "CNN's state_dict:\n",
      "conv1.weight \t torch.Size([32, 1, 9, 9])\n",
      "conv1.bias \t torch.Size([32])\n",
      "conv2.weight \t torch.Size([64, 32, 7, 7])\n",
      "conv2.bias \t torch.Size([64])\n",
      "fc1.weight \t torch.Size([128, 1600])\n",
      "fc1.bias \t torch.Size([128])\n",
      "fc2.weight \t torch.Size([10, 128])\n",
      "fc2.bias \t torch.Size([10])\n"
     ]
    }
   ],
   "source": [
    "model_nostn = CNN()\n",
    "\n",
    "print(\"CNN's state_dict:\")\n",
    "for param_tensor in model_nostn.state_dict():\n",
    "    print(param_tensor, \"\\t\", model_nostn.state_dict()[param_tensor].size())"
   ]
  },
  {
   "cell_type": "code",
   "execution_count": 124,
   "metadata": {
    "colab": {},
    "colab_type": "code",
    "id": "RTHfuIMJ2OX7"
   },
   "outputs": [],
   "source": [
    "optimizer = torch.optim.Adam(model_nostn.parameters(), lr=learning_rate)\n",
    "scheduler = optim.lr_scheduler.ReduceLROnPlateau(optimizer, mode='max', factor = 0.1, patience=6)\n",
    "\n",
    "def get_lr(optimizer):\n",
    "    for param_group in optimizer.param_groups:\n",
    "        return param_group['lr']"
   ]
  },
  {
   "cell_type": "markdown",
   "metadata": {
    "colab_type": "text",
    "id": "y-jXzO1Y2OX-",
    "tags": []
   },
   "source": [
    "#### 5.2 Train/Test"
   ]
  },
  {
   "cell_type": "code",
   "execution_count": 125,
   "metadata": {
    "colab": {},
    "colab_type": "code",
    "id": "B1oDqtGl2OX_",
    "outputId": "f7052aca-d4bc-425c-80d4-0ec8142a84e9",
    "scrolled": true
   },
   "outputs": [
    {
     "name": "stdout",
     "output_type": "stream",
     "text": [
      "STEP 6: INSTANTIATE LOSS CLASS\n",
      "STEP 7: TRAIN THE MODEL\n",
      "Train Epoch: 0 [0/60000 (0%) / Learning rate:0.001]\tLoss:2.307385  \n",
      "Train Epoch: 0 [51200/60000 (85%) / Learning rate:0.001]\tLoss:1.210067  \n",
      "Test set accuracy: 7257/9984 ( 72.69%)\n",
      "////Epoch elapsed time: 10.217346668243408////\n",
      "\n",
      "Train Epoch: 1 [0/60000 (0%) / Learning rate:0.001]\tLoss:1.004884  \n",
      "Train Epoch: 1 [51200/60000 (85%) / Learning rate:0.001]\tLoss:0.820901  \n",
      "Test set accuracy: 8529/9984 ( 85.43%)\n",
      "////Epoch elapsed time: 10.288692235946655////\n",
      "\n",
      "Train Epoch: 2 [0/60000 (0%) / Learning rate:0.001]\tLoss:0.684963  \n",
      "Train Epoch: 2 [51200/60000 (85%) / Learning rate:0.001]\tLoss:0.619406  \n",
      "Test set accuracy: 8965/9984 ( 89.79%)\n",
      "////Epoch elapsed time: 10.34029769897461////\n",
      "\n",
      "Train Epoch: 3 [0/60000 (0%) / Learning rate:0.001]\tLoss:0.589007  \n",
      "Train Epoch: 3 [51200/60000 (85%) / Learning rate:0.001]\tLoss:0.434266  \n",
      "Test set accuracy: 9054/9984 ( 90.69%)\n",
      "////Epoch elapsed time: 10.228468418121338////\n",
      "\n",
      "Train Epoch: 4 [0/60000 (0%) / Learning rate:0.001]\tLoss:0.507424  \n",
      "Train Epoch: 4 [51200/60000 (85%) / Learning rate:0.001]\tLoss:0.462196  \n",
      "Test set accuracy: 9194/9984 ( 92.09%)\n",
      "////Epoch elapsed time: 9.974409580230713////\n",
      "\n",
      "Train Epoch: 5 [0/60000 (0%) / Learning rate:0.001]\tLoss:0.473582  \n",
      "Train Epoch: 5 [51200/60000 (85%) / Learning rate:0.001]\tLoss:0.532858  \n",
      "Test set accuracy: 9283/9984 ( 92.98%)\n",
      "////Epoch elapsed time: 10.263585805892944////\n",
      "\n",
      "Train Epoch: 6 [0/60000 (0%) / Learning rate:0.001]\tLoss:0.472321  \n",
      "Train Epoch: 6 [51200/60000 (85%) / Learning rate:0.001]\tLoss:0.477379  \n",
      "Test set accuracy: 9316/9984 ( 93.31%)\n",
      "////Epoch elapsed time: 9.991844415664673////\n",
      "\n",
      "Train Epoch: 7 [0/60000 (0%) / Learning rate:0.001]\tLoss:0.370996  \n",
      "Train Epoch: 7 [51200/60000 (85%) / Learning rate:0.001]\tLoss:0.416219  \n",
      "Test set accuracy: 9381/9984 ( 93.96%)\n",
      "////Epoch elapsed time: 9.925301551818848////\n",
      "\n",
      "Train Epoch: 8 [0/60000 (0%) / Learning rate:0.001]\tLoss:0.519136  \n",
      "Train Epoch: 8 [51200/60000 (85%) / Learning rate:0.001]\tLoss:0.363423  \n",
      "Test set accuracy: 9386/9984 ( 94.01%)\n",
      "////Epoch elapsed time: 10.036733150482178////\n",
      "\n",
      "Train Epoch: 9 [0/60000 (0%) / Learning rate:0.001]\tLoss:0.391786  \n",
      "Train Epoch: 9 [51200/60000 (85%) / Learning rate:0.001]\tLoss:0.410262  \n",
      "Test set accuracy: 9424/9984 ( 94.39%)\n",
      "////Epoch elapsed time: 10.0814790725708////\n",
      "\n",
      "Train Epoch: 10 [0/60000 (0%) / Learning rate:0.001]\tLoss:0.273599  \n",
      "Train Epoch: 10 [51200/60000 (85%) / Learning rate:0.001]\tLoss:0.352827  \n",
      "Test set accuracy: 9479/9984 ( 94.94%)\n",
      "////Epoch elapsed time: 9.81997036933899////\n",
      "\n",
      "Train Epoch: 11 [0/60000 (0%) / Learning rate:0.001]\tLoss:0.303447  \n",
      "Train Epoch: 11 [51200/60000 (85%) / Learning rate:0.001]\tLoss:0.281441  \n",
      "Test set accuracy: 9465/9984 ( 94.80%)\n",
      "////Epoch elapsed time: 10.091094017028809////\n",
      "\n",
      "Train Epoch: 12 [0/60000 (0%) / Learning rate:0.001]\tLoss:0.369009  \n",
      "Train Epoch: 12 [51200/60000 (85%) / Learning rate:0.001]\tLoss:0.330509  \n",
      "Test set accuracy: 9480/9984 ( 94.95%)\n",
      "////Epoch elapsed time: 9.71562147140503////\n",
      "\n",
      "Train Epoch: 13 [0/60000 (0%) / Learning rate:0.001]\tLoss:0.368283  \n",
      "Train Epoch: 13 [51200/60000 (85%) / Learning rate:0.001]\tLoss:0.346642  \n",
      "Test set accuracy: 9471/9984 ( 94.86%)\n",
      "////Epoch elapsed time: 9.601006746292114////\n",
      "\n",
      "Train Epoch: 14 [0/60000 (0%) / Learning rate:0.001]\tLoss:0.343840  \n",
      "Train Epoch: 14 [51200/60000 (85%) / Learning rate:0.001]\tLoss:0.282607  \n",
      "Test set accuracy: 9559/9984 ( 95.74%)\n",
      "////Epoch elapsed time: 9.76616883277893////\n",
      "\n",
      "Train Epoch: 15 [0/60000 (0%) / Learning rate:0.001]\tLoss:0.228394  \n",
      "Train Epoch: 15 [51200/60000 (85%) / Learning rate:0.001]\tLoss:0.257014  \n",
      "Test set accuracy: 9538/9984 ( 95.53%)\n",
      "////Epoch elapsed time: 9.993413925170898////\n",
      "\n",
      "Train Epoch: 16 [0/60000 (0%) / Learning rate:0.001]\tLoss:0.274860  \n",
      "Train Epoch: 16 [51200/60000 (85%) / Learning rate:0.001]\tLoss:0.270771  \n",
      "Test set accuracy: 9493/9984 ( 95.08%)\n",
      "////Epoch elapsed time: 9.464043855667114////\n",
      "\n",
      "Train Epoch: 17 [0/60000 (0%) / Learning rate:0.001]\tLoss:0.299078  \n",
      "Train Epoch: 17 [51200/60000 (85%) / Learning rate:0.001]\tLoss:0.229220  \n",
      "Test set accuracy: 9545/9984 ( 95.60%)\n",
      "////Epoch elapsed time: 10.350603103637695////\n",
      "\n",
      "Train Epoch: 18 [0/60000 (0%) / Learning rate:0.001]\tLoss:0.265260  \n",
      "Train Epoch: 18 [51200/60000 (85%) / Learning rate:0.001]\tLoss:0.246773  \n",
      "Test set accuracy: 9536/9984 ( 95.51%)\n",
      "////Epoch elapsed time: 9.985337257385254////\n",
      "\n",
      "Train Epoch: 19 [0/60000 (0%) / Learning rate:0.001]\tLoss:0.351619  \n",
      "Train Epoch: 19 [51200/60000 (85%) / Learning rate:0.001]\tLoss:0.262023  \n",
      "Test set accuracy: 9578/9984 ( 95.93%)\n",
      "////Epoch elapsed time: 9.916633605957031////\n",
      "\n",
      "Train Epoch: 20 [0/60000 (0%) / Learning rate:0.001]\tLoss:0.214651  \n",
      "Train Epoch: 20 [51200/60000 (85%) / Learning rate:0.001]\tLoss:0.256392  \n",
      "Test set accuracy: 9542/9984 ( 95.57%)\n",
      "////Epoch elapsed time: 9.961352825164795////\n",
      "\n",
      "Train Epoch: 21 [0/60000 (0%) / Learning rate:0.001]\tLoss:0.237585  \n",
      "Train Epoch: 21 [51200/60000 (85%) / Learning rate:0.001]\tLoss:0.312926  \n",
      "Test set accuracy: 9575/9984 ( 95.90%)\n",
      "////Epoch elapsed time: 9.803643465042114////\n",
      "\n",
      "Train Epoch: 22 [0/60000 (0%) / Learning rate:0.001]\tLoss:0.289628  \n",
      "Train Epoch: 22 [51200/60000 (85%) / Learning rate:0.001]\tLoss:0.274181  \n",
      "Test set accuracy: 9566/9984 ( 95.81%)\n",
      "////Epoch elapsed time: 9.820956468582153////\n",
      "\n",
      "Train Epoch: 23 [0/60000 (0%) / Learning rate:0.001]\tLoss:0.227198  \n",
      "Train Epoch: 23 [51200/60000 (85%) / Learning rate:0.001]\tLoss:0.264601  \n",
      "Test set accuracy: 9622/9984 ( 96.37%)\n",
      "////Epoch elapsed time: 10.041542530059814////\n",
      "\n",
      "Train Epoch: 24 [0/60000 (0%) / Learning rate:0.001]\tLoss:0.214881  \n",
      "Train Epoch: 24 [51200/60000 (85%) / Learning rate:0.001]\tLoss:0.179878  \n",
      "Test set accuracy: 9590/9984 ( 96.05%)\n",
      "////Epoch elapsed time: 9.89157748222351////\n",
      "\n",
      "Train Epoch: 25 [0/60000 (0%) / Learning rate:0.001]\tLoss:0.173201  \n",
      "Train Epoch: 25 [51200/60000 (85%) / Learning rate:0.001]\tLoss:0.176827  \n",
      "Test set accuracy: 9591/9984 ( 96.06%)\n",
      "////Epoch elapsed time: 9.907373189926147////\n",
      "\n",
      "Train Epoch: 26 [0/60000 (0%) / Learning rate:0.001]\tLoss:0.292339  \n",
      "Train Epoch: 26 [51200/60000 (85%) / Learning rate:0.001]\tLoss:0.212636  \n",
      "Test set accuracy: 9611/9984 ( 96.26%)\n",
      "////Epoch elapsed time: 9.72124457359314////\n",
      "\n",
      "Train Epoch: 27 [0/60000 (0%) / Learning rate:0.001]\tLoss:0.184528  \n",
      "Train Epoch: 27 [51200/60000 (85%) / Learning rate:0.001]\tLoss:0.274173  \n",
      "Test set accuracy: 9607/9984 ( 96.22%)\n",
      "////Epoch elapsed time: 9.88158369064331////\n",
      "\n",
      "Train Epoch: 28 [0/60000 (0%) / Learning rate:0.001]\tLoss:0.304412  \n",
      "Train Epoch: 28 [51200/60000 (85%) / Learning rate:0.001]\tLoss:0.187570  \n",
      "Test set accuracy: 9637/9984 ( 96.52%)\n",
      "////Epoch elapsed time: 9.871498107910156////\n",
      "\n",
      "Train Epoch: 29 [0/60000 (0%) / Learning rate:0.001]\tLoss:0.175221  \n",
      "Train Epoch: 29 [51200/60000 (85%) / Learning rate:0.001]\tLoss:0.283802  \n",
      "Test set accuracy: 9612/9984 ( 96.27%)\n",
      "////Epoch elapsed time: 9.80000925064087////\n",
      "\n",
      "Train Epoch: 30 [0/60000 (0%) / Learning rate:0.001]\tLoss:0.250697  \n",
      "Train Epoch: 30 [51200/60000 (85%) / Learning rate:0.001]\tLoss:0.186950  \n",
      "Test set accuracy: 9650/9984 ( 96.65%)\n",
      "////Epoch elapsed time: 9.781501770019531////\n",
      "\n",
      "Train Epoch: 31 [0/60000 (0%) / Learning rate:0.001]\tLoss:0.174204  \n",
      "Train Epoch: 31 [51200/60000 (85%) / Learning rate:0.001]\tLoss:0.249450  \n",
      "Test set accuracy: 9623/9984 ( 96.38%)\n",
      "////Epoch elapsed time: 9.791744947433472////\n",
      "\n",
      "Train Epoch: 32 [0/60000 (0%) / Learning rate:0.001]\tLoss:0.245067  \n",
      "Train Epoch: 32 [51200/60000 (85%) / Learning rate:0.001]\tLoss:0.214003  \n",
      "Test set accuracy: 9648/9984 ( 96.63%)\n",
      "////Epoch elapsed time: 9.799408674240112////\n",
      "\n",
      "Train Epoch: 33 [0/60000 (0%) / Learning rate:0.001]\tLoss:0.235480  \n",
      "Train Epoch: 33 [51200/60000 (85%) / Learning rate:0.001]\tLoss:0.227549  \n",
      "Test set accuracy: 9663/9984 ( 96.78%)\n",
      "////Epoch elapsed time: 9.990676879882812////\n",
      "\n",
      "Train Epoch: 34 [0/60000 (0%) / Learning rate:0.001]\tLoss:0.163105  \n",
      "Train Epoch: 34 [51200/60000 (85%) / Learning rate:0.001]\tLoss:0.263034  \n",
      "Test set accuracy: 9675/9984 ( 96.91%)\n",
      "////Epoch elapsed time: 9.819340229034424////\n",
      "\n",
      "Train Epoch: 35 [0/60000 (0%) / Learning rate:0.001]\tLoss:0.215699  \n",
      "Train Epoch: 35 [51200/60000 (85%) / Learning rate:0.001]\tLoss:0.199699  \n",
      "Test set accuracy: 9649/9984 ( 96.64%)\n",
      "////Epoch elapsed time: 9.800251960754395////\n",
      "\n",
      "Train Epoch: 36 [0/60000 (0%) / Learning rate:0.001]\tLoss:0.201037  \n",
      "Train Epoch: 36 [51200/60000 (85%) / Learning rate:0.001]\tLoss:0.178518  \n",
      "Test set accuracy: 9655/9984 ( 96.70%)\n",
      "////Epoch elapsed time: 9.906767129898071////\n",
      "\n",
      "Train Epoch: 37 [0/60000 (0%) / Learning rate:0.001]\tLoss:0.212845  \n",
      "Train Epoch: 37 [51200/60000 (85%) / Learning rate:0.001]\tLoss:0.222359  \n",
      "Test set accuracy: 9638/9984 ( 96.53%)\n",
      "////Epoch elapsed time: 10.039499521255493////\n",
      "\n",
      "Train Epoch: 38 [0/60000 (0%) / Learning rate:0.001]\tLoss:0.244707  \n",
      "Train Epoch: 38 [51200/60000 (85%) / Learning rate:0.001]\tLoss:0.275632  \n",
      "Test set accuracy: 9667/9984 ( 96.82%)\n",
      "////Epoch elapsed time: 9.883111476898193////\n",
      "\n",
      "Train Epoch: 39 [0/60000 (0%) / Learning rate:0.001]\tLoss:0.113304  \n",
      "Train Epoch: 39 [51200/60000 (85%) / Learning rate:0.001]\tLoss:0.218759  \n",
      "Test set accuracy: 9667/9984 ( 96.82%)\n",
      "////Epoch elapsed time: 9.71784496307373////\n",
      "\n",
      "Train Epoch: 40 [0/60000 (0%) / Learning rate:0.001]\tLoss:0.160592  \n",
      "Train Epoch: 40 [51200/60000 (85%) / Learning rate:0.001]\tLoss:0.215957  \n",
      "Test set accuracy: 9649/9984 ( 96.64%)\n",
      "////Epoch elapsed time: 9.660507917404175////\n",
      "\n",
      "Train Epoch: 41 [0/60000 (0%) / Learning rate:0.001]\tLoss:0.187554  \n",
      "Train Epoch: 41 [51200/60000 (85%) / Learning rate:0.001]\tLoss:0.177021  \n",
      "Test set accuracy: 9674/9984 ( 96.90%)\n",
      "////Epoch elapsed time: 9.777865648269653////\n",
      "\n",
      "Train Epoch: 42 [0/60000 (0%) / Learning rate:0.0001]\tLoss:0.187889  \n",
      "Train Epoch: 42 [51200/60000 (85%) / Learning rate:0.0001]\tLoss:0.170090  \n",
      "Test set accuracy: 9692/9984 ( 97.08%)\n",
      "////Epoch elapsed time: 9.99408745765686////\n",
      "\n",
      "Train Epoch: 43 [0/60000 (0%) / Learning rate:0.0001]\tLoss:0.240153  \n",
      "Train Epoch: 43 [51200/60000 (85%) / Learning rate:0.0001]\tLoss:0.125927  \n",
      "Test set accuracy: 9700/9984 ( 97.16%)\n",
      "////Epoch elapsed time: 9.707422971725464////\n",
      "\n",
      "Train Epoch: 44 [0/60000 (0%) / Learning rate:0.0001]\tLoss:0.122746  \n",
      "Train Epoch: 44 [51200/60000 (85%) / Learning rate:0.0001]\tLoss:0.209919  \n",
      "Test set accuracy: 9706/9984 ( 97.22%)\n",
      "////Epoch elapsed time: 9.923342943191528////\n",
      "\n",
      "Train Epoch: 45 [0/60000 (0%) / Learning rate:0.0001]\tLoss:0.213398  \n",
      "Train Epoch: 45 [51200/60000 (85%) / Learning rate:0.0001]\tLoss:0.135865  \n",
      "Test set accuracy: 9718/9984 ( 97.34%)\n",
      "////Epoch elapsed time: 9.90295934677124////\n",
      "\n",
      "Train Epoch: 46 [0/60000 (0%) / Learning rate:0.0001]\tLoss:0.118367  \n",
      "Train Epoch: 46 [51200/60000 (85%) / Learning rate:0.0001]\tLoss:0.110634  \n",
      "Test set accuracy: 9729/9984 ( 97.45%)\n",
      "////Epoch elapsed time: 9.857620477676392////\n",
      "\n",
      "Train Epoch: 47 [0/60000 (0%) / Learning rate:0.0001]\tLoss:0.199827  \n",
      "Train Epoch: 47 [51200/60000 (85%) / Learning rate:0.0001]\tLoss:0.189213  \n",
      "Test set accuracy: 9713/9984 ( 97.29%)\n",
      "////Epoch elapsed time: 9.616654634475708////\n",
      "\n",
      "Train Epoch: 48 [0/60000 (0%) / Learning rate:0.0001]\tLoss:0.179018  \n",
      "Train Epoch: 48 [51200/60000 (85%) / Learning rate:0.0001]\tLoss:0.138632  \n",
      "Test set accuracy: 9705/9984 ( 97.21%)\n",
      "////Epoch elapsed time: 10.120343446731567////\n",
      "\n",
      "Train Epoch: 49 [0/60000 (0%) / Learning rate:0.0001]\tLoss:0.216617  \n",
      "Train Epoch: 49 [51200/60000 (85%) / Learning rate:0.0001]\tLoss:0.192433  \n",
      "Test set accuracy: 9687/9984 ( 97.03%)\n",
      "////Epoch elapsed time: 9.775607824325562////\n",
      "\n",
      "Train Epoch: 50 [0/60000 (0%) / Learning rate:0.0001]\tLoss:0.166414  \n",
      "Train Epoch: 50 [51200/60000 (85%) / Learning rate:0.0001]\tLoss:0.170656  \n",
      "Test set accuracy: 9726/9984 ( 97.42%)\n",
      "////Epoch elapsed time: 9.66512942314148////\n",
      "\n",
      "Train Epoch: 51 [0/60000 (0%) / Learning rate:0.0001]\tLoss:0.250098  \n",
      "Train Epoch: 51 [51200/60000 (85%) / Learning rate:0.0001]\tLoss:0.201412  \n",
      "Test set accuracy: 9687/9984 ( 97.03%)\n",
      "////Epoch elapsed time: 9.826984882354736////\n",
      "\n",
      "Train Epoch: 52 [0/60000 (0%) / Learning rate:0.0001]\tLoss:0.138452  \n",
      "Train Epoch: 52 [51200/60000 (85%) / Learning rate:0.0001]\tLoss:0.203306  \n",
      "Test set accuracy: 9694/9984 ( 97.10%)\n",
      "////Epoch elapsed time: 9.923163652420044////\n",
      "\n",
      "Train Epoch: 53 [0/60000 (0%) / Learning rate:0.0001]\tLoss:0.182044  \n",
      "Train Epoch: 53 [51200/60000 (85%) / Learning rate:0.0001]\tLoss:0.116873  \n",
      "Test set accuracy: 9680/9984 ( 96.96%)\n",
      "////Epoch elapsed time: 10.293713331222534////\n",
      "\n",
      "Train Epoch: 54 [0/60000 (0%) / Learning rate:1e-05]\tLoss:0.162342  \n",
      "Train Epoch: 54 [51200/60000 (85%) / Learning rate:1e-05]\tLoss:0.181867  \n",
      "Test set accuracy: 9710/9984 ( 97.26%)\n",
      "////Epoch elapsed time: 10.176983118057251////\n",
      "\n",
      "Train Epoch: 55 [0/60000 (0%) / Learning rate:1e-05]\tLoss:0.155740  \n",
      "Train Epoch: 55 [51200/60000 (85%) / Learning rate:1e-05]\tLoss:0.121436  \n",
      "Test set accuracy: 9707/9984 ( 97.23%)\n",
      "////Epoch elapsed time: 10.118998765945435////\n",
      "\n",
      "Train Epoch: 56 [0/60000 (0%) / Learning rate:1e-05]\tLoss:0.197153  \n",
      "Train Epoch: 56 [51200/60000 (85%) / Learning rate:1e-05]\tLoss:0.173734  \n",
      "Test set accuracy: 9721/9984 ( 97.37%)\n",
      "////Epoch elapsed time: 10.411676406860352////\n",
      "\n",
      "Train Epoch: 57 [0/60000 (0%) / Learning rate:1e-05]\tLoss:0.134947  \n",
      "Train Epoch: 57 [51200/60000 (85%) / Learning rate:1e-05]\tLoss:0.159600  \n",
      "Test set accuracy: 9724/9984 ( 97.40%)\n",
      "////Epoch elapsed time: 10.130478382110596////\n",
      "\n",
      "Train Epoch: 58 [0/60000 (0%) / Learning rate:1e-05]\tLoss:0.149534  \n",
      "Train Epoch: 58 [51200/60000 (85%) / Learning rate:1e-05]\tLoss:0.184583  \n",
      "Test set accuracy: 9734/9984 ( 97.50%)\n",
      "////Epoch elapsed time: 10.054775476455688////\n",
      "\n",
      "Train Epoch: 59 [0/60000 (0%) / Learning rate:1e-05]\tLoss:0.105070  \n",
      "Train Epoch: 59 [51200/60000 (85%) / Learning rate:1e-05]\tLoss:0.101575  \n",
      "Test set accuracy: 9720/9984 ( 97.36%)\n",
      "////Epoch elapsed time: 10.127697944641113////\n",
      "\n"
     ]
    }
   ],
   "source": [
    "print('STEP 6: INSTANTIATE LOSS CLASS')\n",
    "#############\n",
    "# CODE HERE #\n",
    "#############\n",
    "#I use F.nll loss for Loss Class, and use code below\n",
    "\n",
    "\n",
    "# Model to GPU\n",
    "\n",
    "model_nostn.to(device0)\n",
    "\n",
    "print('STEP 7: TRAIN THE MODEL')\n",
    "best_acc = 0\n",
    "\n",
    "for epoch in range(num_epoch):\n",
    "    #TRAIN\n",
    "    model_nostn.train()\n",
    "    start = time.time()\n",
    "    \n",
    "    for j,(img,label) in enumerate(train_loader):\n",
    "        #print(img.size())\n",
    "        img, label = img.to(device0), label.to(device0)\n",
    "        optimizer.zero_grad()\n",
    "        output = model_nostn(img)\n",
    "        loss = F.nll_loss(output, label)\n",
    "        loss.backward()\n",
    "        optimizer.step()\n",
    "        #############\n",
    "        # CODE HERE #\n",
    "        #############\n",
    "        if j % 200 == 0:\n",
    "            \n",
    "            print('Train Epoch: {} [{}/{} ({:.0f}%) / Learning rate:{}]\\tLoss:{:.6f}  '.format(\n",
    "                    epoch, j * len(img), train_size,\n",
    "                    100. * j / len(train_loader),get_lr(optimizer), loss.item()))\n",
    "            \n",
    "           \n",
    "                    \n",
    "    #Test\n",
    "    model_nostn.eval()\n",
    "    correct = 0\n",
    "    total = 0\n",
    "    for img, label in test_loader:\n",
    "        img, label = img.to(device0), label.to(device0)\n",
    "        output = model_nostn(img)\n",
    "        _, predicted = torch.max(output.data, 1)\n",
    "        total += label.size(0)\n",
    "        correct += (predicted==label).sum()\n",
    "        \n",
    "    accuracy = 100*correct.item()/total\n",
    "    print(f'Test set accuracy: {correct.item()}/{total} ({accuracy: .2f}%)')\n",
    "    #############\n",
    "    # CODE HERE #\n",
    "    #############\n",
    "    print('////Epoch elapsed time: {}////\\n'.format(time.time() - start))  \n",
    "    \n",
    "    if accuracy > best_acc :\n",
    "        best_acc = accuracy\n",
    "    \n",
    "    scheduler.step(accuracy)"
   ]
  },
  {
   "cell_type": "markdown",
   "metadata": {
    "colab_type": "text",
    "id": "EgPo5F4x2OYC"
   },
   "source": [
    "#### Best accuracy of the model without ST module\n"
   ]
  },
  {
   "cell_type": "code",
   "execution_count": 126,
   "metadata": {
    "colab": {},
    "colab_type": "code",
    "id": "UAd8_Ss42OYC",
    "outputId": "bcd5d035-87c3-4d1e-b580-8c565d463798"
   },
   "outputs": [
    {
     "name": "stdout",
     "output_type": "stream",
     "text": [
      "Best accuracy of our model without ST module:  97.49599358974359\n"
     ]
    }
   ],
   "source": [
    "print('Best accuracy of our model without ST module: ', best_acc)"
   ]
  },
  {
   "cell_type": "markdown",
   "metadata": {},
   "source": [
    "## Discussion\n",
    "\n",
    "이번 실험에서는 spatial transformer network을 구현하였다. Spatial transformer network는 하나의 CNN 네트워크 안에 삽입되어 모델이 spatial invariant한 특성을 가질 수 있도록 도와주는 계층이다.\n",
    "Spatial transformer network가 포함된 layer는 따라서 공간에서 변형된 이미지에 대한 classification도 더 잘 수행할 수 있다.\n",
    "\n",
    "두 모델의 성능 비교를 위해 우리는 기존의 MNIST 데이터셋을 받아오고, 여기에 rotate, translate, scailing을 적용해 Distorted MNIST를 제작하였다.\n",
    "\n",
    "이후 spatial transformer network가 적용된 STN_CNN 모델과 별도의 spatial transformer network가 적용되지 않은 CNN모델을 구현하여 두 모델의 성능을 비교해보았다.\n",
    "전자의 경우 최대 99.11%까지 test accuracy가 증가하는 모습을 보였으며 후자의 경우 97.50%까지 증가하였다.\n",
    "\n",
    "이를 통해 spatial transformer network가 distorted MNIST와 같은 데이터를 classification하는 것에 도움을 주고, 일반 모델에 비해 spatial invariant한 특성을 더 가진다는 것을 확인할 수 있었다.\n",
    "\n",
    "MNIST dataset의 경우 전처리가 매우 훌륭하게 적용된 이미지 데이터이기 때문에 spatial transformer network가 없는 일반 모델에서도 어느정도는 높은 정확도가 나온다.\n",
    "MNIST보다 비교적 전처리가 덜 되었거나, 학습이 어려운 데이터셋, 다양한 각도에서 찍힌 사진들이 포함된 데이터셋의 경우 이런 spatial invariat한 feature이 더 중요할 것으로 보인다."
   ]
  },
  {
   "cell_type": "markdown",
   "metadata": {
    "colab_type": "text",
    "id": "LLpVgYys2OYF"
   },
   "source": [
    "### *References*\n",
    "[1] https://arxiv.org/pdf/1506.02025.pdf <br>\n",
    "[2] https://en.wikipedia.org/wiki/Affine_transformation <br>\n",
    "[3] https://en.wikipedia.org/wiki/Transformation_matrix#Affine_transformations <br>\n",
    "[4] https://pytorch.org/docs/stable/nn.html#affine-grid <br>\n",
    "[5] https://pytorch.org/docs/stable/nn.html#torch.nn.functional.grid_sample <br>\n",
    "[6] http://cs231n.github.io/neural-networks-3/#anneal <br>\n",
    "[7] https://pytorch.org/docs/stable/optim.html#how-to-adjust-learning-rate <br>"
   ]
  }
 ],
 "metadata": {
  "colab": {
   "collapsed_sections": [],
   "name": "EEE4423_lab5_STN_problem.ipynb",
   "provenance": [],
   "version": "0.3.2"
  },
  "kernelspec": {
   "display_name": "Full on Python 3.6 (GPU)",
   "language": "python",
   "name": "python3"
  },
  "language_info": {
   "codemirror_mode": {
    "name": "ipython",
    "version": 3
   },
   "file_extension": ".py",
   "mimetype": "text/x-python",
   "name": "python",
   "nbconvert_exporter": "python",
   "pygments_lexer": "ipython3",
   "version": "3.6.14"
  }
 },
 "nbformat": 4,
 "nbformat_minor": 4
}
